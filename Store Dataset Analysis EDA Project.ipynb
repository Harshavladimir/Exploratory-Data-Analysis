{
 "cells": [
  {
   "cell_type": "code",
   "execution_count": 1,
   "id": "bed7d13b",
   "metadata": {
    "_cell_guid": "b1076dfc-b9ad-4769-8c92-a6c4dae69d19",
    "_uuid": "8f2839f25d086af736a60e9eeb907d3b93b6e0e5",
    "papermill": {
     "duration": 0.059,
     "end_time": "2023-05-29T09:18:56.531765",
     "exception": false,
     "start_time": "2023-05-29T09:18:56.472765",
     "status": "completed"
    },
    "tags": []
   },
   "outputs": [],
   "source": [
    "import numpy as np \n",
    "import pandas as pd \n",
    "import matplotlib.pyplot as plt\n",
    "import seaborn as sns"
   ]
  },
  {
   "cell_type": "code",
   "execution_count": 89,
   "id": "b36485a6",
   "metadata": {
    "papermill": {
     "duration": 15.046845,
     "end_time": "2023-05-29T09:19:11.606494",
     "exception": false,
     "start_time": "2023-05-29T09:18:56.559649",
     "status": "completed"
    },
    "tags": []
   },
   "outputs": [],
   "source": [
    "df=pd.read_csv(\"Store Data Analysis.csv\")"
   ]
  },
  {
   "cell_type": "code",
   "execution_count": 91,
   "id": "e41350e9",
   "metadata": {
    "papermill": {
     "duration": 0.037879,
     "end_time": "2023-05-29T09:19:11.755418",
     "exception": false,
     "start_time": "2023-05-29T09:19:11.717539",
     "status": "completed"
    },
    "tags": []
   },
   "outputs": [
    {
     "data": {
      "text/plain": [
       "(31047, 19)"
      ]
     },
     "execution_count": 91,
     "metadata": {},
     "output_type": "execute_result"
    }
   ],
   "source": [
    "df.shape"
   ]
  },
  {
   "cell_type": "code",
   "execution_count": 93,
   "id": "3665f267",
   "metadata": {
    "papermill": {
     "duration": 0.041122,
     "end_time": "2023-05-29T09:19:11.825341",
     "exception": false,
     "start_time": "2023-05-29T09:19:11.784219",
     "status": "completed"
    },
    "tags": []
   },
   "outputs": [
    {
     "data": {
      "text/plain": [
       "Index(['index', 'Order ID', 'Cust ID', 'Gender', 'Age', 'Date', 'Status',\n",
       "       'Channel ', 'SKU', 'Category', 'Size', 'Qty', 'currency', 'Amount',\n",
       "       'ship-city', 'ship-state', 'ship-postal-code', 'ship-country', 'B2B'],\n",
       "      dtype='object')"
      ]
     },
     "execution_count": 93,
     "metadata": {},
     "output_type": "execute_result"
    }
   ],
   "source": [
    "df.columns"
   ]
  },
  {
   "cell_type": "code",
   "execution_count": 95,
   "id": "640af5bc",
   "metadata": {
    "papermill": {
     "duration": 0.041265,
     "end_time": "2023-05-29T09:19:11.965770",
     "exception": false,
     "start_time": "2023-05-29T09:19:11.924505",
     "status": "completed"
    },
    "tags": []
   },
   "outputs": [
    {
     "data": {
      "text/plain": [
       "index                int64\n",
       "Order ID            object\n",
       "Cust ID              int64\n",
       "Gender              object\n",
       "Age                  int64\n",
       "Date                object\n",
       "Status              object\n",
       "Channel             object\n",
       "SKU                 object\n",
       "Category            object\n",
       "Size                object\n",
       "Qty                 object\n",
       "currency            object\n",
       "Amount               int64\n",
       "ship-city           object\n",
       "ship-state          object\n",
       "ship-postal-code     int64\n",
       "ship-country        object\n",
       "B2B                   bool\n",
       "dtype: object"
      ]
     },
     "execution_count": 95,
     "metadata": {},
     "output_type": "execute_result"
    }
   ],
   "source": [
    "df.dtypes"
   ]
  },
  {
   "cell_type": "markdown",
   "id": "d9968fe7",
   "metadata": {
    "papermill": {
     "duration": 0.028394,
     "end_time": "2023-05-29T09:19:12.023306",
     "exception": false,
     "start_time": "2023-05-29T09:19:11.994912",
     "status": "completed"
    },
    "tags": []
   },
   "source": [
    "**Checking for the Unique values in the dataframe**"
   ]
  },
  {
   "cell_type": "code",
   "execution_count": 98,
   "id": "304944bc",
   "metadata": {
    "papermill": {
     "duration": 0.094293,
     "end_time": "2023-05-29T09:19:12.145937",
     "exception": false,
     "start_time": "2023-05-29T09:19:12.051644",
     "status": "completed"
    },
    "tags": []
   },
   "outputs": [
    {
     "data": {
      "text/plain": [
       "index               31047\n",
       "Order ID            28471\n",
       "Cust ID             28437\n",
       "Gender                  4\n",
       "Age                    61\n",
       "Date                   36\n",
       "Status                  4\n",
       "Channel                 7\n",
       "SKU                  5287\n",
       "Category                8\n",
       "Size                   11\n",
       "Qty                     7\n",
       "currency                1\n",
       "Amount                769\n",
       "ship-city            2603\n",
       "ship-state             50\n",
       "ship-postal-code     4958\n",
       "ship-country            1\n",
       "B2B                     2\n",
       "dtype: int64"
      ]
     },
     "execution_count": 98,
     "metadata": {},
     "output_type": "execute_result"
    }
   ],
   "source": [
    "df.nunique()"
   ]
  },
  {
   "cell_type": "code",
   "execution_count": 100,
   "id": "50c03da8-67e4-492a-9803-54a115c4ae3b",
   "metadata": {},
   "outputs": [
    {
     "data": {
      "text/html": [
       "<div>\n",
       "<style scoped>\n",
       "    .dataframe tbody tr th:only-of-type {\n",
       "        vertical-align: middle;\n",
       "    }\n",
       "\n",
       "    .dataframe tbody tr th {\n",
       "        vertical-align: top;\n",
       "    }\n",
       "\n",
       "    .dataframe thead th {\n",
       "        text-align: right;\n",
       "    }\n",
       "</style>\n",
       "<table border=\"1\" class=\"dataframe\">\n",
       "  <thead>\n",
       "    <tr style=\"text-align: right;\">\n",
       "      <th></th>\n",
       "      <th>index</th>\n",
       "      <th>Order ID</th>\n",
       "      <th>Cust ID</th>\n",
       "      <th>Gender</th>\n",
       "      <th>Age</th>\n",
       "      <th>Date</th>\n",
       "      <th>Status</th>\n",
       "      <th>Channels</th>\n",
       "      <th>SKU</th>\n",
       "      <th>Category</th>\n",
       "      <th>Size</th>\n",
       "      <th>Qty</th>\n",
       "      <th>currency</th>\n",
       "      <th>Amount</th>\n",
       "      <th>ship-city</th>\n",
       "      <th>ship-state</th>\n",
       "      <th>ship-postal-code</th>\n",
       "      <th>ship-country</th>\n",
       "      <th>B2B</th>\n",
       "    </tr>\n",
       "  </thead>\n",
       "  <tbody>\n",
       "    <tr>\n",
       "      <th>0</th>\n",
       "      <td>1</td>\n",
       "      <td>171-1029312-3038738</td>\n",
       "      <td>1029312</td>\n",
       "      <td>Women</td>\n",
       "      <td>44</td>\n",
       "      <td>12/4/2022</td>\n",
       "      <td>Delivered</td>\n",
       "      <td>Myntra</td>\n",
       "      <td>JNE1233-BLUE-KR-031-XXL</td>\n",
       "      <td>kurta</td>\n",
       "      <td>XXL</td>\n",
       "      <td>1</td>\n",
       "      <td>INR</td>\n",
       "      <td>376</td>\n",
       "      <td>MOHALI</td>\n",
       "      <td>PUNJAB</td>\n",
       "      <td>140301</td>\n",
       "      <td>IN</td>\n",
       "      <td>False</td>\n",
       "    </tr>\n",
       "    <tr>\n",
       "      <th>1</th>\n",
       "      <td>2</td>\n",
       "      <td>405-2183842-2225946</td>\n",
       "      <td>2183842</td>\n",
       "      <td>Women</td>\n",
       "      <td>29</td>\n",
       "      <td>12/4/2022</td>\n",
       "      <td>Delivered</td>\n",
       "      <td>Ajio</td>\n",
       "      <td>SET414-KR-NP-L</td>\n",
       "      <td>Set</td>\n",
       "      <td>L</td>\n",
       "      <td>1</td>\n",
       "      <td>INR</td>\n",
       "      <td>1449</td>\n",
       "      <td>GURUGRAM</td>\n",
       "      <td>HARYANA</td>\n",
       "      <td>122002</td>\n",
       "      <td>IN</td>\n",
       "      <td>False</td>\n",
       "    </tr>\n",
       "  </tbody>\n",
       "</table>\n",
       "</div>"
      ],
      "text/plain": [
       "   index             Order ID  Cust ID Gender  Age       Date     Status  \\\n",
       "0      1  171-1029312-3038738  1029312  Women   44  12/4/2022  Delivered   \n",
       "1      2  405-2183842-2225946  2183842  Women   29  12/4/2022  Delivered   \n",
       "\n",
       "  Channels                      SKU Category Size Qty currency  Amount  \\\n",
       "0   Myntra  JNE1233-BLUE-KR-031-XXL    kurta  XXL   1      INR     376   \n",
       "1     Ajio           SET414-KR-NP-L      Set    L   1      INR    1449   \n",
       "\n",
       "  ship-city ship-state  ship-postal-code ship-country    B2B  \n",
       "0    MOHALI     PUNJAB            140301           IN  False  \n",
       "1  GURUGRAM    HARYANA            122002           IN  False  "
      ]
     },
     "execution_count": 100,
     "metadata": {},
     "output_type": "execute_result"
    }
   ],
   "source": [
    "df.rename({'Channel ':'Channels'},axis=1,inplace=True)\n",
    "df.head(2)"
   ]
  },
  {
   "cell_type": "code",
   "execution_count": 101,
   "id": "5b82dbfd-761d-4518-ae72-f8900d71b05b",
   "metadata": {},
   "outputs": [
    {
     "data": {
      "text/plain": [
       "Qty\n",
       "1      30878\n",
       "2        114\n",
       "3         19\n",
       "Two       16\n",
       "One       13\n",
       "4          6\n",
       "5          1\n",
       "Name: count, dtype: int64"
      ]
     },
     "execution_count": 101,
     "metadata": {},
     "output_type": "execute_result"
    }
   ],
   "source": [
    "df['Qty'].value_counts()"
   ]
  },
  {
   "cell_type": "markdown",
   "id": "ad2fe7e1-3b15-4b9c-a75e-2da795381260",
   "metadata": {},
   "source": [
    "**Replacing all the String with numbers**"
   ]
  },
  {
   "cell_type": "code",
   "execution_count": 105,
   "id": "270429f2-0429-45ff-8f8c-aad065b4eaed",
   "metadata": {},
   "outputs": [],
   "source": [
    "df['Qty']=df['Qty'].replace(['One','Two'],[1,2])"
   ]
  },
  {
   "cell_type": "code",
   "execution_count": 107,
   "id": "ba1ea708-2c03-4212-8d0f-b44714d510b8",
   "metadata": {},
   "outputs": [
    {
     "data": {
      "text/plain": [
       "Qty\n",
       "1    30878\n",
       "2      114\n",
       "3       19\n",
       "2       16\n",
       "1       13\n",
       "4        6\n",
       "5        1\n",
       "Name: count, dtype: int64"
      ]
     },
     "execution_count": 107,
     "metadata": {},
     "output_type": "execute_result"
    }
   ],
   "source": [
    "df['Qty'].value_counts()"
   ]
  },
  {
   "cell_type": "code",
   "execution_count": 109,
   "id": "0feaf014",
   "metadata": {
    "papermill": {
     "duration": 0.179342,
     "end_time": "2023-05-29T09:19:13.129152",
     "exception": false,
     "start_time": "2023-05-29T09:19:12.949810",
     "status": "completed"
    },
    "tags": []
   },
   "outputs": [
    {
     "name": "stdout",
     "output_type": "stream",
     "text": [
      "<class 'pandas.core.frame.DataFrame'>\n",
      "RangeIndex: 31047 entries, 0 to 31046\n",
      "Data columns (total 19 columns):\n",
      " #   Column            Non-Null Count  Dtype \n",
      "---  ------            --------------  ----- \n",
      " 0   index             31047 non-null  int64 \n",
      " 1   Order ID          31047 non-null  object\n",
      " 2   Cust ID           31047 non-null  int64 \n",
      " 3   Gender            31047 non-null  object\n",
      " 4   Age               31047 non-null  int64 \n",
      " 5   Date              31047 non-null  object\n",
      " 6   Status            31047 non-null  object\n",
      " 7   Channels          31047 non-null  object\n",
      " 8   SKU               31047 non-null  object\n",
      " 9   Category          31047 non-null  object\n",
      " 10  Size              31047 non-null  object\n",
      " 11  Qty               31047 non-null  object\n",
      " 12  currency          31047 non-null  object\n",
      " 13  Amount            31047 non-null  int64 \n",
      " 14  ship-city         31047 non-null  object\n",
      " 15  ship-state        31047 non-null  object\n",
      " 16  ship-postal-code  31047 non-null  int64 \n",
      " 17  ship-country      31047 non-null  object\n",
      " 18  B2B               31047 non-null  bool  \n",
      "dtypes: bool(1), int64(5), object(13)\n",
      "memory usage: 4.3+ MB\n"
     ]
    }
   ],
   "source": [
    "df.info()"
   ]
  },
  {
   "cell_type": "markdown",
   "id": "baebf018",
   "metadata": {
    "papermill": {
     "duration": 0.031096,
     "end_time": "2023-05-29T09:19:13.191037",
     "exception": false,
     "start_time": "2023-05-29T09:19:13.159941",
     "status": "completed"
    },
    "tags": []
   },
   "source": [
    "**Checking for the null values**"
   ]
  },
  {
   "cell_type": "code",
   "execution_count": 112,
   "id": "26a66398",
   "metadata": {
    "papermill": {
     "duration": 0.180648,
     "end_time": "2023-05-29T09:19:13.403444",
     "exception": false,
     "start_time": "2023-05-29T09:19:13.222796",
     "status": "completed"
    },
    "tags": []
   },
   "outputs": [
    {
     "data": {
      "text/html": [
       "<div>\n",
       "<style scoped>\n",
       "    .dataframe tbody tr th:only-of-type {\n",
       "        vertical-align: middle;\n",
       "    }\n",
       "\n",
       "    .dataframe tbody tr th {\n",
       "        vertical-align: top;\n",
       "    }\n",
       "\n",
       "    .dataframe thead th {\n",
       "        text-align: right;\n",
       "    }\n",
       "</style>\n",
       "<table border=\"1\" class=\"dataframe\">\n",
       "  <thead>\n",
       "    <tr style=\"text-align: right;\">\n",
       "      <th></th>\n",
       "      <th>index</th>\n",
       "      <th>Order ID</th>\n",
       "      <th>Cust ID</th>\n",
       "      <th>Gender</th>\n",
       "      <th>Age</th>\n",
       "      <th>Date</th>\n",
       "      <th>Status</th>\n",
       "      <th>Channels</th>\n",
       "      <th>SKU</th>\n",
       "      <th>Category</th>\n",
       "      <th>Size</th>\n",
       "      <th>Qty</th>\n",
       "      <th>currency</th>\n",
       "      <th>Amount</th>\n",
       "      <th>ship-city</th>\n",
       "      <th>ship-state</th>\n",
       "      <th>ship-postal-code</th>\n",
       "      <th>ship-country</th>\n",
       "      <th>B2B</th>\n",
       "    </tr>\n",
       "  </thead>\n",
       "  <tbody>\n",
       "    <tr>\n",
       "      <th>0</th>\n",
       "      <td>False</td>\n",
       "      <td>False</td>\n",
       "      <td>False</td>\n",
       "      <td>False</td>\n",
       "      <td>False</td>\n",
       "      <td>False</td>\n",
       "      <td>False</td>\n",
       "      <td>False</td>\n",
       "      <td>False</td>\n",
       "      <td>False</td>\n",
       "      <td>False</td>\n",
       "      <td>False</td>\n",
       "      <td>False</td>\n",
       "      <td>False</td>\n",
       "      <td>False</td>\n",
       "      <td>False</td>\n",
       "      <td>False</td>\n",
       "      <td>False</td>\n",
       "      <td>False</td>\n",
       "    </tr>\n",
       "    <tr>\n",
       "      <th>1</th>\n",
       "      <td>False</td>\n",
       "      <td>False</td>\n",
       "      <td>False</td>\n",
       "      <td>False</td>\n",
       "      <td>False</td>\n",
       "      <td>False</td>\n",
       "      <td>False</td>\n",
       "      <td>False</td>\n",
       "      <td>False</td>\n",
       "      <td>False</td>\n",
       "      <td>False</td>\n",
       "      <td>False</td>\n",
       "      <td>False</td>\n",
       "      <td>False</td>\n",
       "      <td>False</td>\n",
       "      <td>False</td>\n",
       "      <td>False</td>\n",
       "      <td>False</td>\n",
       "      <td>False</td>\n",
       "    </tr>\n",
       "    <tr>\n",
       "      <th>2</th>\n",
       "      <td>False</td>\n",
       "      <td>False</td>\n",
       "      <td>False</td>\n",
       "      <td>False</td>\n",
       "      <td>False</td>\n",
       "      <td>False</td>\n",
       "      <td>False</td>\n",
       "      <td>False</td>\n",
       "      <td>False</td>\n",
       "      <td>False</td>\n",
       "      <td>False</td>\n",
       "      <td>False</td>\n",
       "      <td>False</td>\n",
       "      <td>False</td>\n",
       "      <td>False</td>\n",
       "      <td>False</td>\n",
       "      <td>False</td>\n",
       "      <td>False</td>\n",
       "      <td>False</td>\n",
       "    </tr>\n",
       "    <tr>\n",
       "      <th>3</th>\n",
       "      <td>False</td>\n",
       "      <td>False</td>\n",
       "      <td>False</td>\n",
       "      <td>False</td>\n",
       "      <td>False</td>\n",
       "      <td>False</td>\n",
       "      <td>False</td>\n",
       "      <td>False</td>\n",
       "      <td>False</td>\n",
       "      <td>False</td>\n",
       "      <td>False</td>\n",
       "      <td>False</td>\n",
       "      <td>False</td>\n",
       "      <td>False</td>\n",
       "      <td>False</td>\n",
       "      <td>False</td>\n",
       "      <td>False</td>\n",
       "      <td>False</td>\n",
       "      <td>False</td>\n",
       "    </tr>\n",
       "    <tr>\n",
       "      <th>4</th>\n",
       "      <td>False</td>\n",
       "      <td>False</td>\n",
       "      <td>False</td>\n",
       "      <td>False</td>\n",
       "      <td>False</td>\n",
       "      <td>False</td>\n",
       "      <td>False</td>\n",
       "      <td>False</td>\n",
       "      <td>False</td>\n",
       "      <td>False</td>\n",
       "      <td>False</td>\n",
       "      <td>False</td>\n",
       "      <td>False</td>\n",
       "      <td>False</td>\n",
       "      <td>False</td>\n",
       "      <td>False</td>\n",
       "      <td>False</td>\n",
       "      <td>False</td>\n",
       "      <td>False</td>\n",
       "    </tr>\n",
       "  </tbody>\n",
       "</table>\n",
       "</div>"
      ],
      "text/plain": [
       "   index  Order ID  Cust ID  Gender    Age   Date  Status  Channels    SKU  \\\n",
       "0  False     False    False   False  False  False   False     False  False   \n",
       "1  False     False    False   False  False  False   False     False  False   \n",
       "2  False     False    False   False  False  False   False     False  False   \n",
       "3  False     False    False   False  False  False   False     False  False   \n",
       "4  False     False    False   False  False  False   False     False  False   \n",
       "\n",
       "   Category   Size    Qty  currency  Amount  ship-city  ship-state  \\\n",
       "0     False  False  False     False   False      False       False   \n",
       "1     False  False  False     False   False      False       False   \n",
       "2     False  False  False     False   False      False       False   \n",
       "3     False  False  False     False   False      False       False   \n",
       "4     False  False  False     False   False      False       False   \n",
       "\n",
       "   ship-postal-code  ship-country    B2B  \n",
       "0             False         False  False  \n",
       "1             False         False  False  \n",
       "2             False         False  False  \n",
       "3             False         False  False  \n",
       "4             False         False  False  "
      ]
     },
     "execution_count": 112,
     "metadata": {},
     "output_type": "execute_result"
    }
   ],
   "source": [
    "df.isna().head()"
   ]
  },
  {
   "cell_type": "code",
   "execution_count": 114,
   "id": "e6d5ccee",
   "metadata": {
    "papermill": {
     "duration": 0.163135,
     "end_time": "2023-05-29T09:19:13.596967",
     "exception": false,
     "start_time": "2023-05-29T09:19:13.433832",
     "status": "completed"
    },
    "tags": []
   },
   "outputs": [
    {
     "data": {
      "text/plain": [
       "index               0\n",
       "Order ID            0\n",
       "Cust ID             0\n",
       "Gender              0\n",
       "Age                 0\n",
       "Date                0\n",
       "Status              0\n",
       "Channels            0\n",
       "SKU                 0\n",
       "Category            0\n",
       "Size                0\n",
       "Qty                 0\n",
       "currency            0\n",
       "Amount              0\n",
       "ship-city           0\n",
       "ship-state          0\n",
       "ship-postal-code    0\n",
       "ship-country        0\n",
       "B2B                 0\n",
       "dtype: int64"
      ]
     },
     "execution_count": 114,
     "metadata": {},
     "output_type": "execute_result"
    }
   ],
   "source": [
    "df.isna().sum()"
   ]
  },
  {
   "cell_type": "markdown",
   "id": "14915993",
   "metadata": {
    "papermill": {
     "duration": 0.030503,
     "end_time": "2023-05-29T09:19:13.658594",
     "exception": false,
     "start_time": "2023-05-29T09:19:13.628091",
     "status": "completed"
    },
    "tags": []
   },
   "source": [
    "**Visualizing the null values using the heatmap**"
   ]
  },
  {
   "cell_type": "code",
   "execution_count": 117,
   "id": "c6f4c441",
   "metadata": {
    "papermill": {
     "duration": 2.845185,
     "end_time": "2023-05-29T09:19:16.534541",
     "exception": false,
     "start_time": "2023-05-29T09:19:13.689356",
     "status": "completed"
    },
    "tags": []
   },
   "outputs": [
    {
     "data": {
      "image/png": "[encoded data removed]",
      "text/plain": [
       "<Figure size 640x480 with 2 Axes>"
      ]
     },
     "metadata": {},
     "output_type": "display_data"
    }
   ],
   "source": [
    "sns.heatmap(df.isna())\n",
    "plt.title(\"Null values in the dataset\")\n",
    "plt.show()"
   ]
  },
  {
   "cell_type": "code",
   "execution_count": 118,
   "id": "b87204d6",
   "metadata": {
    "papermill": {
     "duration": 0.05026,
     "end_time": "2023-05-29T09:19:16.773026",
     "exception": false,
     "start_time": "2023-05-29T09:19:16.722766",
     "status": "completed"
    },
    "tags": []
   },
   "outputs": [
    {
     "data": {
      "text/plain": [
       "Gender\n",
       "Women    21479\n",
       "Men       9452\n",
       "W           74\n",
       "M           42\n",
       "Name: count, dtype: int64"
      ]
     },
     "execution_count": 118,
     "metadata": {},
     "output_type": "execute_result"
    }
   ],
   "source": [
    "df['Gender'].value_counts()"
   ]
  },
  {
   "cell_type": "code",
   "execution_count": 119,
   "id": "97867af3",
   "metadata": {
    "papermill": {
     "duration": 0.063747,
     "end_time": "2023-05-29T09:19:16.871132",
     "exception": false,
     "start_time": "2023-05-29T09:19:16.807385",
     "status": "completed"
    },
    "tags": []
   },
   "outputs": [
    {
     "data": {
      "text/plain": [
       "Gender\n",
       "F    21553\n",
       "M     9494\n",
       "Name: count, dtype: int64"
      ]
     },
     "execution_count": 119,
     "metadata": {},
     "output_type": "execute_result"
    }
   ],
   "source": [
    "df['Gender']=df['Gender'].replace(['Women','Men','W'],['F','M','F'])\n",
    "df['Gender'].value_counts()"
   ]
  },
  {
   "cell_type": "code",
   "execution_count": 120,
   "id": "6ae82da7",
   "metadata": {
    "papermill": {
     "duration": 0.051984,
     "end_time": "2023-05-29T09:19:16.957741",
     "exception": false,
     "start_time": "2023-05-29T09:19:16.905757",
     "status": "completed"
    },
    "tags": []
   },
   "outputs": [
    {
     "data": {
      "text/plain": [
       "Gender\n",
       "F    21553\n",
       "M     9494\n",
       "Name: count, dtype: int64"
      ]
     },
     "execution_count": 120,
     "metadata": {},
     "output_type": "execute_result"
    }
   ],
   "source": [
    "df['Gender'].value_counts()"
   ]
  },
  {
   "cell_type": "markdown",
   "id": "3f2d4e91",
   "metadata": {
    "papermill": {
     "duration": 0.033079,
     "end_time": "2023-05-29T09:19:17.025758",
     "exception": false,
     "start_time": "2023-05-29T09:19:16.992679",
     "status": "completed"
    },
    "tags": []
   },
   "source": [
    "**Fill all the null values**"
   ]
  },
  {
   "cell_type": "code",
   "execution_count": 122,
   "id": "2a0ca8eb",
   "metadata": {
    "papermill": {
     "duration": 0.176145,
     "end_time": "2023-05-29T09:19:17.334689",
     "exception": false,
     "start_time": "2023-05-29T09:19:17.158544",
     "status": "completed"
    },
    "tags": []
   },
   "outputs": [
    {
     "data": {
      "text/plain": [
       "index               0\n",
       "Order ID            0\n",
       "Cust ID             0\n",
       "Gender              0\n",
       "Age                 0\n",
       "Date                0\n",
       "Status              0\n",
       "Channels            0\n",
       "SKU                 0\n",
       "Category            0\n",
       "Size                0\n",
       "Qty                 0\n",
       "currency            0\n",
       "Amount              0\n",
       "ship-city           0\n",
       "ship-state          0\n",
       "ship-postal-code    0\n",
       "ship-country        0\n",
       "B2B                 0\n",
       "dtype: int64"
      ]
     },
     "execution_count": 122,
     "metadata": {},
     "output_type": "execute_result"
    }
   ],
   "source": [
    "df.isna().sum()"
   ]
  },
  {
   "cell_type": "markdown",
   "id": "577ea6c6",
   "metadata": {
    "papermill": {
     "duration": 0.034848,
     "end_time": "2023-05-29T09:19:19.006692",
     "exception": false,
     "start_time": "2023-05-29T09:19:18.971844",
     "status": "completed"
    },
    "tags": []
   },
   "source": [
    "**Check if any products are shipped from Hyderabad?**"
   ]
  },
  {
   "cell_type": "code",
   "execution_count": 124,
   "id": "724d293f",
   "metadata": {
    "papermill": {
     "duration": 0.077225,
     "end_time": "2023-05-29T09:19:19.119073",
     "exception": false,
     "start_time": "2023-05-29T09:19:19.041848",
     "status": "completed"
    },
    "tags": []
   },
   "outputs": [
    {
     "data": {
      "text/html": [
       "<div>\n",
       "<style scoped>\n",
       "    .dataframe tbody tr th:only-of-type {\n",
       "        vertical-align: middle;\n",
       "    }\n",
       "\n",
       "    .dataframe tbody tr th {\n",
       "        vertical-align: top;\n",
       "    }\n",
       "\n",
       "    .dataframe thead th {\n",
       "        text-align: right;\n",
       "    }\n",
       "</style>\n",
       "<table border=\"1\" class=\"dataframe\">\n",
       "  <thead>\n",
       "    <tr style=\"text-align: right;\">\n",
       "      <th></th>\n",
       "      <th>index</th>\n",
       "      <th>Order ID</th>\n",
       "      <th>Cust ID</th>\n",
       "      <th>Gender</th>\n",
       "      <th>Age</th>\n",
       "      <th>Date</th>\n",
       "      <th>Status</th>\n",
       "      <th>Channels</th>\n",
       "      <th>SKU</th>\n",
       "      <th>Category</th>\n",
       "      <th>Size</th>\n",
       "      <th>Qty</th>\n",
       "      <th>currency</th>\n",
       "      <th>Amount</th>\n",
       "      <th>ship-city</th>\n",
       "      <th>ship-state</th>\n",
       "      <th>ship-postal-code</th>\n",
       "      <th>ship-country</th>\n",
       "      <th>B2B</th>\n",
       "    </tr>\n",
       "  </thead>\n",
       "  <tbody>\n",
       "    <tr>\n",
       "      <th>14</th>\n",
       "      <td>15</td>\n",
       "      <td>407-0442660-2736366</td>\n",
       "      <td>442660</td>\n",
       "      <td>F</td>\n",
       "      <td>52</td>\n",
       "      <td>12/4/2022</td>\n",
       "      <td>Delivered</td>\n",
       "      <td>Amazon</td>\n",
       "      <td>SET333-KR-DPT-M</td>\n",
       "      <td>Set</td>\n",
       "      <td>M</td>\n",
       "      <td>1</td>\n",
       "      <td>INR</td>\n",
       "      <td>967</td>\n",
       "      <td>HYDERABAD</td>\n",
       "      <td>TELANGANA</td>\n",
       "      <td>500098</td>\n",
       "      <td>IN</td>\n",
       "      <td>False</td>\n",
       "    </tr>\n",
       "    <tr>\n",
       "      <th>24</th>\n",
       "      <td>25</td>\n",
       "      <td>402-0398999-0011565</td>\n",
       "      <td>398999</td>\n",
       "      <td>F</td>\n",
       "      <td>37</td>\n",
       "      <td>12/4/2022</td>\n",
       "      <td>Delivered</td>\n",
       "      <td>Amazon</td>\n",
       "      <td>SET273-KR-NP-M</td>\n",
       "      <td>Set</td>\n",
       "      <td>M</td>\n",
       "      <td>1</td>\n",
       "      <td>INR</td>\n",
       "      <td>612</td>\n",
       "      <td>HYDERABAD</td>\n",
       "      <td>TELANGANA</td>\n",
       "      <td>500060</td>\n",
       "      <td>IN</td>\n",
       "      <td>False</td>\n",
       "    </tr>\n",
       "    <tr>\n",
       "      <th>50</th>\n",
       "      <td>51</td>\n",
       "      <td>405-4213846-6141157</td>\n",
       "      <td>4213846</td>\n",
       "      <td>F</td>\n",
       "      <td>27</td>\n",
       "      <td>12/4/2022</td>\n",
       "      <td>Delivered</td>\n",
       "      <td>Amazon</td>\n",
       "      <td>J0003-SET-M</td>\n",
       "      <td>Set</td>\n",
       "      <td>M</td>\n",
       "      <td>1</td>\n",
       "      <td>INR</td>\n",
       "      <td>664</td>\n",
       "      <td>HYDERABAD</td>\n",
       "      <td>TELANGANA</td>\n",
       "      <td>500039</td>\n",
       "      <td>IN</td>\n",
       "      <td>False</td>\n",
       "    </tr>\n",
       "    <tr>\n",
       "      <th>55</th>\n",
       "      <td>56</td>\n",
       "      <td>408-4675134-5301129</td>\n",
       "      <td>4675134</td>\n",
       "      <td>F</td>\n",
       "      <td>58</td>\n",
       "      <td>12/4/2022</td>\n",
       "      <td>Delivered</td>\n",
       "      <td>Meesho</td>\n",
       "      <td>SET209-KR-PP-XXL</td>\n",
       "      <td>Set</td>\n",
       "      <td>XXL</td>\n",
       "      <td>1</td>\n",
       "      <td>INR</td>\n",
       "      <td>507</td>\n",
       "      <td>HYDERABAD</td>\n",
       "      <td>TELANGANA</td>\n",
       "      <td>500008</td>\n",
       "      <td>IN</td>\n",
       "      <td>False</td>\n",
       "    </tr>\n",
       "    <tr>\n",
       "      <th>90</th>\n",
       "      <td>91</td>\n",
       "      <td>403-8575376-3341124</td>\n",
       "      <td>8575376</td>\n",
       "      <td>F</td>\n",
       "      <td>32</td>\n",
       "      <td>12/4/2022</td>\n",
       "      <td>Delivered</td>\n",
       "      <td>Flipkart</td>\n",
       "      <td>SET253-KR-NP-L</td>\n",
       "      <td>Set</td>\n",
       "      <td>L</td>\n",
       "      <td>1</td>\n",
       "      <td>INR</td>\n",
       "      <td>737</td>\n",
       "      <td>HYDERABAD</td>\n",
       "      <td>TELANGANA</td>\n",
       "      <td>500020</td>\n",
       "      <td>IN</td>\n",
       "      <td>False</td>\n",
       "    </tr>\n",
       "  </tbody>\n",
       "</table>\n",
       "</div>"
      ],
      "text/plain": [
       "    index             Order ID  Cust ID Gender  Age       Date     Status  \\\n",
       "14     15  407-0442660-2736366   442660      F   52  12/4/2022  Delivered   \n",
       "24     25  402-0398999-0011565   398999      F   37  12/4/2022  Delivered   \n",
       "50     51  405-4213846-6141157  4213846      F   27  12/4/2022  Delivered   \n",
       "55     56  408-4675134-5301129  4675134      F   58  12/4/2022  Delivered   \n",
       "90     91  403-8575376-3341124  8575376      F   32  12/4/2022  Delivered   \n",
       "\n",
       "    Channels               SKU Category Size Qty currency  Amount  ship-city  \\\n",
       "14    Amazon   SET333-KR-DPT-M      Set    M   1      INR     967  HYDERABAD   \n",
       "24    Amazon    SET273-KR-NP-M      Set    M   1      INR     612  HYDERABAD   \n",
       "50    Amazon       J0003-SET-M      Set    M   1      INR     664  HYDERABAD   \n",
       "55    Meesho  SET209-KR-PP-XXL      Set  XXL   1      INR     507  HYDERABAD   \n",
       "90  Flipkart    SET253-KR-NP-L      Set    L   1      INR     737  HYDERABAD   \n",
       "\n",
       "   ship-state  ship-postal-code ship-country    B2B  \n",
       "14  TELANGANA            500098           IN  False  \n",
       "24  TELANGANA            500060           IN  False  \n",
       "50  TELANGANA            500039           IN  False  \n",
       "55  TELANGANA            500008           IN  False  \n",
       "90  TELANGANA            500020           IN  False  "
      ]
     },
     "execution_count": 124,
     "metadata": {},
     "output_type": "execute_result"
    }
   ],
   "source": [
    "df[df['ship-city']=='HYDERABAD'].head()"
   ]
  },
  {
   "cell_type": "markdown",
   "id": "1cf3e702",
   "metadata": {
    "papermill": {
     "duration": 0.034391,
     "end_time": "2023-05-29T09:19:19.189589",
     "exception": false,
     "start_time": "2023-05-29T09:19:19.155198",
     "status": "completed"
    },
    "tags": []
   },
   "source": [
    "**How many products are delivered from the city Hyderabad?**"
   ]
  },
  {
   "cell_type": "code",
   "execution_count": 126,
   "id": "d6661881",
   "metadata": {
    "papermill": {
     "duration": 0.249908,
     "end_time": "2023-05-29T09:19:19.474186",
     "exception": false,
     "start_time": "2023-05-29T09:19:19.224278",
     "status": "completed"
    },
    "tags": []
   },
   "outputs": [
    {
     "data": {
      "text/html": [
       "<div>\n",
       "<style scoped>\n",
       "    .dataframe tbody tr th:only-of-type {\n",
       "        vertical-align: middle;\n",
       "    }\n",
       "\n",
       "    .dataframe tbody tr th {\n",
       "        vertical-align: top;\n",
       "    }\n",
       "\n",
       "    .dataframe thead th {\n",
       "        text-align: right;\n",
       "    }\n",
       "</style>\n",
       "<table border=\"1\" class=\"dataframe\">\n",
       "  <thead>\n",
       "    <tr style=\"text-align: right;\">\n",
       "      <th></th>\n",
       "      <th>index</th>\n",
       "      <th>Order ID</th>\n",
       "      <th>Cust ID</th>\n",
       "      <th>Gender</th>\n",
       "      <th>Age</th>\n",
       "      <th>Date</th>\n",
       "      <th>Status</th>\n",
       "      <th>Channels</th>\n",
       "      <th>SKU</th>\n",
       "      <th>Category</th>\n",
       "      <th>Size</th>\n",
       "      <th>Qty</th>\n",
       "      <th>currency</th>\n",
       "      <th>Amount</th>\n",
       "      <th>ship-city</th>\n",
       "      <th>ship-state</th>\n",
       "      <th>ship-postal-code</th>\n",
       "      <th>ship-country</th>\n",
       "      <th>B2B</th>\n",
       "    </tr>\n",
       "  </thead>\n",
       "  <tbody>\n",
       "    <tr>\n",
       "      <th>14</th>\n",
       "      <td>15</td>\n",
       "      <td>407-0442660-2736366</td>\n",
       "      <td>442660</td>\n",
       "      <td>F</td>\n",
       "      <td>52</td>\n",
       "      <td>12/4/2022</td>\n",
       "      <td>Delivered</td>\n",
       "      <td>Amazon</td>\n",
       "      <td>SET333-KR-DPT-M</td>\n",
       "      <td>Set</td>\n",
       "      <td>M</td>\n",
       "      <td>1</td>\n",
       "      <td>INR</td>\n",
       "      <td>967</td>\n",
       "      <td>HYDERABAD</td>\n",
       "      <td>TELANGANA</td>\n",
       "      <td>500098</td>\n",
       "      <td>IN</td>\n",
       "      <td>False</td>\n",
       "    </tr>\n",
       "    <tr>\n",
       "      <th>24</th>\n",
       "      <td>25</td>\n",
       "      <td>402-0398999-0011565</td>\n",
       "      <td>398999</td>\n",
       "      <td>F</td>\n",
       "      <td>37</td>\n",
       "      <td>12/4/2022</td>\n",
       "      <td>Delivered</td>\n",
       "      <td>Amazon</td>\n",
       "      <td>SET273-KR-NP-M</td>\n",
       "      <td>Set</td>\n",
       "      <td>M</td>\n",
       "      <td>1</td>\n",
       "      <td>INR</td>\n",
       "      <td>612</td>\n",
       "      <td>HYDERABAD</td>\n",
       "      <td>TELANGANA</td>\n",
       "      <td>500060</td>\n",
       "      <td>IN</td>\n",
       "      <td>False</td>\n",
       "    </tr>\n",
       "    <tr>\n",
       "      <th>50</th>\n",
       "      <td>51</td>\n",
       "      <td>405-4213846-6141157</td>\n",
       "      <td>4213846</td>\n",
       "      <td>F</td>\n",
       "      <td>27</td>\n",
       "      <td>12/4/2022</td>\n",
       "      <td>Delivered</td>\n",
       "      <td>Amazon</td>\n",
       "      <td>J0003-SET-M</td>\n",
       "      <td>Set</td>\n",
       "      <td>M</td>\n",
       "      <td>1</td>\n",
       "      <td>INR</td>\n",
       "      <td>664</td>\n",
       "      <td>HYDERABAD</td>\n",
       "      <td>TELANGANA</td>\n",
       "      <td>500039</td>\n",
       "      <td>IN</td>\n",
       "      <td>False</td>\n",
       "    </tr>\n",
       "    <tr>\n",
       "      <th>55</th>\n",
       "      <td>56</td>\n",
       "      <td>408-4675134-5301129</td>\n",
       "      <td>4675134</td>\n",
       "      <td>F</td>\n",
       "      <td>58</td>\n",
       "      <td>12/4/2022</td>\n",
       "      <td>Delivered</td>\n",
       "      <td>Meesho</td>\n",
       "      <td>SET209-KR-PP-XXL</td>\n",
       "      <td>Set</td>\n",
       "      <td>XXL</td>\n",
       "      <td>1</td>\n",
       "      <td>INR</td>\n",
       "      <td>507</td>\n",
       "      <td>HYDERABAD</td>\n",
       "      <td>TELANGANA</td>\n",
       "      <td>500008</td>\n",
       "      <td>IN</td>\n",
       "      <td>False</td>\n",
       "    </tr>\n",
       "    <tr>\n",
       "      <th>90</th>\n",
       "      <td>91</td>\n",
       "      <td>403-8575376-3341124</td>\n",
       "      <td>8575376</td>\n",
       "      <td>F</td>\n",
       "      <td>32</td>\n",
       "      <td>12/4/2022</td>\n",
       "      <td>Delivered</td>\n",
       "      <td>Flipkart</td>\n",
       "      <td>SET253-KR-NP-L</td>\n",
       "      <td>Set</td>\n",
       "      <td>L</td>\n",
       "      <td>1</td>\n",
       "      <td>INR</td>\n",
       "      <td>737</td>\n",
       "      <td>HYDERABAD</td>\n",
       "      <td>TELANGANA</td>\n",
       "      <td>500020</td>\n",
       "      <td>IN</td>\n",
       "      <td>False</td>\n",
       "    </tr>\n",
       "    <tr>\n",
       "      <th>...</th>\n",
       "      <td>...</td>\n",
       "      <td>...</td>\n",
       "      <td>...</td>\n",
       "      <td>...</td>\n",
       "      <td>...</td>\n",
       "      <td>...</td>\n",
       "      <td>...</td>\n",
       "      <td>...</td>\n",
       "      <td>...</td>\n",
       "      <td>...</td>\n",
       "      <td>...</td>\n",
       "      <td>...</td>\n",
       "      <td>...</td>\n",
       "      <td>...</td>\n",
       "      <td>...</td>\n",
       "      <td>...</td>\n",
       "      <td>...</td>\n",
       "      <td>...</td>\n",
       "      <td>...</td>\n",
       "    </tr>\n",
       "    <tr>\n",
       "      <th>30947</th>\n",
       "      <td>30948</td>\n",
       "      <td>171-8033179-4719562</td>\n",
       "      <td>8033179</td>\n",
       "      <td>F</td>\n",
       "      <td>45</td>\n",
       "      <td>1/6/2022</td>\n",
       "      <td>Delivered</td>\n",
       "      <td>Ajio</td>\n",
       "      <td>JNE3461-KR-M</td>\n",
       "      <td>kurta</td>\n",
       "      <td>M</td>\n",
       "      <td>1</td>\n",
       "      <td>INR</td>\n",
       "      <td>352</td>\n",
       "      <td>HYDERABAD</td>\n",
       "      <td>TELANGANA</td>\n",
       "      <td>500044</td>\n",
       "      <td>IN</td>\n",
       "      <td>False</td>\n",
       "    </tr>\n",
       "    <tr>\n",
       "      <th>30997</th>\n",
       "      <td>30998</td>\n",
       "      <td>408-9579839-6574765</td>\n",
       "      <td>9579839</td>\n",
       "      <td>M</td>\n",
       "      <td>39</td>\n",
       "      <td>1/6/2022</td>\n",
       "      <td>Delivered</td>\n",
       "      <td>Myntra</td>\n",
       "      <td>SET363-KR-NP-M</td>\n",
       "      <td>Set</td>\n",
       "      <td>M</td>\n",
       "      <td>1</td>\n",
       "      <td>INR</td>\n",
       "      <td>1338</td>\n",
       "      <td>HYDERABAD</td>\n",
       "      <td>TELANGANA</td>\n",
       "      <td>500048</td>\n",
       "      <td>IN</td>\n",
       "      <td>False</td>\n",
       "    </tr>\n",
       "    <tr>\n",
       "      <th>31024</th>\n",
       "      <td>31025</td>\n",
       "      <td>404-9228208-9407529</td>\n",
       "      <td>9228208</td>\n",
       "      <td>M</td>\n",
       "      <td>55</td>\n",
       "      <td>1/6/2022</td>\n",
       "      <td>Delivered</td>\n",
       "      <td>Flipkart</td>\n",
       "      <td>SAR012</td>\n",
       "      <td>Saree</td>\n",
       "      <td>Free</td>\n",
       "      <td>1</td>\n",
       "      <td>INR</td>\n",
       "      <td>399</td>\n",
       "      <td>HYDERABAD</td>\n",
       "      <td>TELANGANA</td>\n",
       "      <td>502032</td>\n",
       "      <td>IN</td>\n",
       "      <td>False</td>\n",
       "    </tr>\n",
       "    <tr>\n",
       "      <th>31026</th>\n",
       "      <td>31027</td>\n",
       "      <td>404-7444867-4101107</td>\n",
       "      <td>7444867</td>\n",
       "      <td>M</td>\n",
       "      <td>42</td>\n",
       "      <td>1/6/2022</td>\n",
       "      <td>Delivered</td>\n",
       "      <td>Myntra</td>\n",
       "      <td>SAR020</td>\n",
       "      <td>Saree</td>\n",
       "      <td>Free</td>\n",
       "      <td>1</td>\n",
       "      <td>INR</td>\n",
       "      <td>721</td>\n",
       "      <td>HYDERABAD</td>\n",
       "      <td>TELANGANA</td>\n",
       "      <td>502319</td>\n",
       "      <td>IN</td>\n",
       "      <td>False</td>\n",
       "    </tr>\n",
       "    <tr>\n",
       "      <th>31040</th>\n",
       "      <td>31041</td>\n",
       "      <td>405-4837393-8997115</td>\n",
       "      <td>4837393</td>\n",
       "      <td>M</td>\n",
       "      <td>60</td>\n",
       "      <td>1/6/2022</td>\n",
       "      <td>Delivered</td>\n",
       "      <td>Ajio</td>\n",
       "      <td>MEN5027-KR-M</td>\n",
       "      <td>kurta</td>\n",
       "      <td>M</td>\n",
       "      <td>1</td>\n",
       "      <td>INR</td>\n",
       "      <td>495</td>\n",
       "      <td>HYDERABAD</td>\n",
       "      <td>TELANGANA</td>\n",
       "      <td>500084</td>\n",
       "      <td>IN</td>\n",
       "      <td>False</td>\n",
       "    </tr>\n",
       "  </tbody>\n",
       "</table>\n",
       "<p>1785 rows × 19 columns</p>\n",
       "</div>"
      ],
      "text/plain": [
       "       index             Order ID  Cust ID Gender  Age       Date     Status  \\\n",
       "14        15  407-0442660-2736366   442660      F   52  12/4/2022  Delivered   \n",
       "24        25  402-0398999-0011565   398999      F   37  12/4/2022  Delivered   \n",
       "50        51  405-4213846-6141157  4213846      F   27  12/4/2022  Delivered   \n",
       "55        56  408-4675134-5301129  4675134      F   58  12/4/2022  Delivered   \n",
       "90        91  403-8575376-3341124  8575376      F   32  12/4/2022  Delivered   \n",
       "...      ...                  ...      ...    ...  ...        ...        ...   \n",
       "30947  30948  171-8033179-4719562  8033179      F   45   1/6/2022  Delivered   \n",
       "30997  30998  408-9579839-6574765  9579839      M   39   1/6/2022  Delivered   \n",
       "31024  31025  404-9228208-9407529  9228208      M   55   1/6/2022  Delivered   \n",
       "31026  31027  404-7444867-4101107  7444867      M   42   1/6/2022  Delivered   \n",
       "31040  31041  405-4837393-8997115  4837393      M   60   1/6/2022  Delivered   \n",
       "\n",
       "       Channels               SKU Category  Size Qty currency  Amount  \\\n",
       "14       Amazon   SET333-KR-DPT-M      Set     M   1      INR     967   \n",
       "24       Amazon    SET273-KR-NP-M      Set     M   1      INR     612   \n",
       "50       Amazon       J0003-SET-M      Set     M   1      INR     664   \n",
       "55       Meesho  SET209-KR-PP-XXL      Set   XXL   1      INR     507   \n",
       "90     Flipkart    SET253-KR-NP-L      Set     L   1      INR     737   \n",
       "...         ...               ...      ...   ...  ..      ...     ...   \n",
       "30947      Ajio      JNE3461-KR-M    kurta     M   1      INR     352   \n",
       "30997    Myntra    SET363-KR-NP-M      Set     M   1      INR    1338   \n",
       "31024  Flipkart            SAR012    Saree  Free   1      INR     399   \n",
       "31026    Myntra            SAR020    Saree  Free   1      INR     721   \n",
       "31040      Ajio      MEN5027-KR-M    kurta     M   1      INR     495   \n",
       "\n",
       "       ship-city ship-state  ship-postal-code ship-country    B2B  \n",
       "14     HYDERABAD  TELANGANA            500098           IN  False  \n",
       "24     HYDERABAD  TELANGANA            500060           IN  False  \n",
       "50     HYDERABAD  TELANGANA            500039           IN  False  \n",
       "55     HYDERABAD  TELANGANA            500008           IN  False  \n",
       "90     HYDERABAD  TELANGANA            500020           IN  False  \n",
       "...          ...        ...               ...          ...    ...  \n",
       "30947  HYDERABAD  TELANGANA            500044           IN  False  \n",
       "30997  HYDERABAD  TELANGANA            500048           IN  False  \n",
       "31024  HYDERABAD  TELANGANA            502032           IN  False  \n",
       "31026  HYDERABAD  TELANGANA            502319           IN  False  \n",
       "31040  HYDERABAD  TELANGANA            500084           IN  False  \n",
       "\n",
       "[1785 rows x 19 columns]"
      ]
     },
     "execution_count": 126,
     "metadata": {},
     "output_type": "execute_result"
    }
   ],
   "source": [
    "df[df['ship-city']=='HYDERABAD']"
   ]
  },
  {
   "cell_type": "markdown",
   "id": "21af944b",
   "metadata": {
    "papermill": {
     "duration": 0.035719,
     "end_time": "2023-05-29T09:19:19.546442",
     "exception": false,
     "start_time": "2023-05-29T09:19:19.510723",
     "status": "completed"
    },
    "tags": []
   },
   "source": [
    "**To which gender the products of hyderabad has been shipped?**"
   ]
  },
  {
   "cell_type": "code",
   "execution_count": 128,
   "id": "b9c3f8e1",
   "metadata": {
    "papermill": {
     "duration": 0.054926,
     "end_time": "2023-05-29T09:19:19.637287",
     "exception": false,
     "start_time": "2023-05-29T09:19:19.582361",
     "status": "completed"
    },
    "tags": []
   },
   "outputs": [
    {
     "data": {
      "text/plain": [
       "(1785, 19)"
      ]
     },
     "execution_count": 128,
     "metadata": {},
     "output_type": "execute_result"
    }
   ],
   "source": [
    "hyd_dat=df[df['ship-city']=='HYDERABAD']\n",
    "hyd_dat.shape"
   ]
  },
  {
   "cell_type": "code",
   "execution_count": 129,
   "id": "934a0755",
   "metadata": {
    "papermill": {
     "duration": 0.326421,
     "end_time": "2023-05-29T09:19:20.000287",
     "exception": false,
     "start_time": "2023-05-29T09:19:19.673866",
     "status": "completed"
    },
    "tags": []
   },
   "outputs": [
    {
     "data": {
      "text/plain": [
       "[]"
      ]
     },
     "execution_count": 129,
     "metadata": {},
     "output_type": "execute_result"
    },
    {
     "data": {
      "image/png": "[encoded data removed]",
      "text/plain": [
       "<Figure size 640x480 with 1 Axes>"
      ]
     },
     "metadata": {},
     "output_type": "display_data"
    }
   ],
   "source": [
    "sns.countplot(x='Gender',data=hyd_dat)\n",
    "plt.title('Count of Gender')\n",
    "plt.plot()"
   ]
  },
  {
   "cell_type": "code",
   "execution_count": 130,
   "id": "7d3228db",
   "metadata": {
    "papermill": {
     "duration": 0.055154,
     "end_time": "2023-05-29T09:19:20.091282",
     "exception": false,
     "start_time": "2023-05-29T09:19:20.036128",
     "status": "completed"
    },
    "tags": []
   },
   "outputs": [
    {
     "data": {
      "text/plain": [
       "index               1785\n",
       "Order ID            1770\n",
       "Cust ID             1770\n",
       "Gender                 2\n",
       "Age                   61\n",
       "Date                  36\n",
       "Status                 4\n",
       "Channels               7\n",
       "SKU                 1161\n",
       "Category               8\n",
       "Size                  11\n",
       "Qty                    4\n",
       "currency               1\n",
       "Amount               429\n",
       "ship-city              1\n",
       "ship-state             2\n",
       "ship-postal-code     100\n",
       "ship-country           1\n",
       "B2B                    2\n",
       "dtype: int64"
      ]
     },
     "execution_count": 130,
     "metadata": {},
     "output_type": "execute_result"
    }
   ],
   "source": [
    "hyd_dat.nunique()"
   ]
  },
  {
   "cell_type": "markdown",
   "id": "46639411",
   "metadata": {
    "papermill": {
     "duration": 0.035839,
     "end_time": "2023-05-29T09:19:20.163821",
     "exception": false,
     "start_time": "2023-05-29T09:19:20.127982",
     "status": "completed"
    },
    "tags": []
   },
   "source": [
    "**What is the quantity bought based on gender in hyderabad?**"
   ]
  },
  {
   "cell_type": "code",
   "execution_count": 137,
   "id": "7ee18e66",
   "metadata": {
    "papermill": {
     "duration": 0.400544,
     "end_time": "2023-05-29T09:19:20.603732",
     "exception": false,
     "start_time": "2023-05-29T09:19:20.203188",
     "status": "completed"
    },
    "tags": []
   },
   "outputs": [
    {
     "data": {
      "text/plain": [
       "[]"
      ]
     },
     "execution_count": 137,
     "metadata": {},
     "output_type": "execute_result"
    },
    {
     "data": {
      "image/png": "[encoded data removed]",
      "text/plain": [
       "<Figure size 640x480 with 1 Axes>"
      ]
     },
     "metadata": {},
     "output_type": "display_data"
    }
   ],
   "source": [
    "ax=sns.countplot(x='Gender',data=hyd_dat,hue='Qty')\n",
    "plt.title('Count of Gender')\n",
    "plt.plot()"
   ]
  },
  {
   "cell_type": "markdown",
   "id": "3deede06",
   "metadata": {
    "papermill": {
     "duration": 0.035931,
     "end_time": "2023-05-29T09:19:20.676410",
     "exception": false,
     "start_time": "2023-05-29T09:19:20.640479",
     "status": "completed"
    },
    "tags": []
   },
   "source": [
    "**What are the category of dresses that are brought by Females in the hyderbad**"
   ]
  },
  {
   "cell_type": "code",
   "execution_count": 142,
   "id": "7a16c029",
   "metadata": {
    "papermill": {
     "duration": 0.391473,
     "end_time": "2023-05-29T09:19:21.104480",
     "exception": false,
     "start_time": "2023-05-29T09:19:20.713007",
     "status": "completed"
    },
    "tags": []
   },
   "outputs": [
    {
     "data": {
      "text/plain": [
       "[]"
      ]
     },
     "execution_count": 142,
     "metadata": {},
     "output_type": "execute_result"
    },
    {
     "data": {
      "image/png": "[encoded data removed]",
      "text/plain": [
       "<Figure size 640x480 with 1 Axes>"
      ]
     },
     "metadata": {},
     "output_type": "display_data"
    }
   ],
   "source": [
    "femhyd=hyd_dat[hyd_dat['Gender']=='F']\n",
    "ax=sns.countplot(x='Category',data=femhyd)\n",
    "plt.title('Count of Category by females')\n",
    "plt.plot()"
   ]
  },
  {
   "cell_type": "markdown",
   "id": "f20850c9",
   "metadata": {
    "papermill": {
     "duration": 0.037305,
     "end_time": "2023-05-29T09:19:21.180437",
     "exception": false,
     "start_time": "2023-05-29T09:19:21.143132",
     "status": "completed"
    },
    "tags": []
   },
   "source": [
    "**What are the categories that men brought more that females in hyderabad?**"
   ]
  },
  {
   "cell_type": "code",
   "execution_count": 146,
   "id": "1bd9ae0a",
   "metadata": {
    "papermill": {
     "duration": 0.383189,
     "end_time": "2023-05-29T09:19:21.601208",
     "exception": false,
     "start_time": "2023-05-29T09:19:21.218019",
     "status": "completed"
    },
    "tags": []
   },
   "outputs": [
    {
     "data": {
      "image/png": "[encoded data removed]",
      "text/plain": [
       "<Figure size 800x400 with 1 Axes>"
      ]
     },
     "metadata": {},
     "output_type": "display_data"
    }
   ],
   "source": [
    "plt.figure(figsize=(8,4))\n",
    "sns.countplot(x='Category',data=hyd_dat,hue='Gender')\n",
    "plt.show()"
   ]
  },
  {
   "cell_type": "markdown",
   "id": "33dd4b0f",
   "metadata": {
    "papermill": {
     "duration": 0.041843,
     "end_time": "2023-05-29T09:19:21.680412",
     "exception": false,
     "start_time": "2023-05-29T09:19:21.638569",
     "status": "completed"
    },
    "tags": []
   },
   "source": [
    "**From which platfrom did most of the hyderabad people used?**"
   ]
  },
  {
   "cell_type": "code",
   "execution_count": 148,
   "id": "56465708",
   "metadata": {
    "papermill": {
     "duration": 0.052446,
     "end_time": "2023-05-29T09:19:21.771217",
     "exception": false,
     "start_time": "2023-05-29T09:19:21.718771",
     "status": "completed"
    },
    "tags": []
   },
   "outputs": [
    {
     "data": {
      "text/plain": [
       "Channels\n",
       "Amazon      663\n",
       "Myntra      405\n",
       "Flipkart    358\n",
       "Ajio        117\n",
       "Meesho       86\n",
       "Nalli        85\n",
       "Others       71\n",
       "Name: count, dtype: int64"
      ]
     },
     "execution_count": 148,
     "metadata": {},
     "output_type": "execute_result"
    }
   ],
   "source": [
    "hyd_dat['Channels'].value_counts()"
   ]
  },
  {
   "cell_type": "code",
   "execution_count": 149,
   "id": "cff27a8d",
   "metadata": {
    "papermill": {
     "duration": 0.307292,
     "end_time": "2023-05-29T09:19:22.115989",
     "exception": false,
     "start_time": "2023-05-29T09:19:21.808697",
     "status": "completed"
    },
    "tags": []
   },
   "outputs": [
    {
     "data": {
      "image/png": "[encoded data removed]",
      "text/plain": [
       "<Figure size 800x400 with 1 Axes>"
      ]
     },
     "metadata": {},
     "output_type": "display_data"
    }
   ],
   "source": [
    "plt.figure(figsize=(8,4))\n",
    "sns.countplot(x='Channels',data=hyd_dat)\n",
    "plt.show()"
   ]
  },
  {
   "cell_type": "code",
   "execution_count": 150,
   "id": "86e159c6",
   "metadata": {
    "papermill": {
     "duration": 0.402178,
     "end_time": "2023-05-29T09:19:22.557929",
     "exception": false,
     "start_time": "2023-05-29T09:19:22.155751",
     "status": "completed"
    },
    "tags": []
   },
   "outputs": [
    {
     "data": {
      "image/png": "[encoded data removed]",
      "text/plain": [
       "<Figure size 800x400 with 1 Axes>"
      ]
     },
     "metadata": {},
     "output_type": "display_data"
    }
   ],
   "source": [
    "plt.figure(figsize=(8,4))\n",
    "sns.countplot(x='Channels',data=hyd_dat,hue='Gender')\n",
    "plt.title('Medium used based on gender')\n",
    "plt.show()"
   ]
  },
  {
   "cell_type": "code",
   "execution_count": 152,
   "id": "2e56cd1b",
   "metadata": {
    "papermill": {
     "duration": 0.300808,
     "end_time": "2023-05-29T09:19:25.124438",
     "exception": false,
     "start_time": "2023-05-29T09:19:24.823630",
     "status": "completed"
    },
    "tags": []
   },
   "outputs": [
    {
     "data": {
      "image/png": "[encoded data removed]",
      "text/plain": [
       "<Figure size 640x480 with 1 Axes>"
      ]
     },
     "metadata": {},
     "output_type": "display_data"
    }
   ],
   "source": [
    "x=df['Status'].value_counts()\n",
    "myexplode = [0.2, 0.2, 0.2, 0.2]\n",
    "labels=['Delivered','Returned','Cancelled','Refunded']\n",
    "plt.pie(x,explode=myexplode,labels=labels,autopct='%.2f')\n",
    "plt.legend()\n",
    "plt.show()"
   ]
  },
  {
   "cell_type": "code",
   "execution_count": 153,
   "id": "b5df903c-5e53-4977-a3d7-8f9aa34b9650",
   "metadata": {},
   "outputs": [
    {
     "data": {
      "image/png": "[encoded data removed]",
      "text/plain": [
       "<Figure size 640x480 with 1 Axes>"
      ]
     },
     "metadata": {},
     "output_type": "display_data"
    }
   ],
   "source": [
    "d=df.Channels.value_counts()\n",
    "labels=['Amazon','Myntra','Flipkart','Ajio','Nalli','Meesho','Others']\n",
    "explode=[0.2,0.2,0.2,0.1,0.1,0.2,0.2]\n",
    "plt.pie(d,labels=labels,explode=explode,autopct='%.2f')\n",
    "plt.show()"
   ]
  },
  {
   "cell_type": "code",
   "execution_count": 154,
   "id": "9c94f47c-23c5-42b2-adc1-95d0745a3f32",
   "metadata": {},
   "outputs": [
    {
     "data": {
      "image/png": "[encoded data removed]",
      "text/plain": [
       "<Figure size 640x480 with 1 Axes>"
      ]
     },
     "metadata": {},
     "output_type": "display_data"
    }
   ],
   "source": [
    "w=df.loc[df['Age']>50,'Channels'].value_counts()\n",
    "labels=['Amazon','Myntra','Flipkart','Ajio','Nalli','Meesho','Others']\n",
    "ex=[0.2,0.2,0.2,0.2,0.2,0.2,0.2]\n",
    "plt.pie(w,labels=labels,explode=ex,autopct='%.2f')\n",
    "plt.title('People of Age above 50 using Different Channels')\n",
    "plt.show()"
   ]
  },
  {
   "cell_type": "code",
   "execution_count": 156,
   "id": "feaef224-3793-4d6c-94d3-c8ebe0f67ff8",
   "metadata": {},
   "outputs": [
    {
     "data": {
      "image/png": "[encoded data removed]",
      "text/plain": [
       "<Figure size 640x480 with 1 Axes>"
      ]
     },
     "metadata": {},
     "output_type": "display_data"
    }
   ],
   "source": [
    "x1=df.loc[df['ship-city']=='BENGALURU','Gender'].value_counts()\n",
    "la=['Women','Men']\n",
    "ex=[0.2,0.2]\n",
    "plt.pie(x1,explode=ex,labels=la,autopct='%.2f')\n",
    "plt.legend()\n",
    "plt.title('Percentage of women shopping from BENGALURU')\n",
    "plt.show()"
   ]
  },
  {
   "cell_type": "code",
   "execution_count": 157,
   "id": "b380a6e7-5d21-4f47-8d1d-6ab72e5aa85d",
   "metadata": {},
   "outputs": [
    {
     "data": {
      "text/plain": [
       "Status\n",
       "Delivered    347\n",
       "Returned      29\n",
       "Cancelled     15\n",
       "Refunded      13\n",
       "Name: count, dtype: int64"
      ]
     },
     "execution_count": 157,
     "metadata": {},
     "output_type": "execute_result"
    }
   ],
   "source": [
    "e=df.loc[df['Category']=='Western Dress','Status']\n",
    "f=e.loc[df['ship-city']=='BENGALURU'].value_counts()\n",
    "f"
   ]
  },
  {
   "cell_type": "code",
   "execution_count": 158,
   "id": "b3b7b936-08e6-4607-9888-4484b6245cbc",
   "metadata": {},
   "outputs": [
    {
     "data": {
      "image/png": "[encoded data removed]",
      "text/plain": [
       "<Figure size 640x480 with 1 Axes>"
      ]
     },
     "metadata": {},
     "output_type": "display_data"
    }
   ],
   "source": [
    "labels=['Delivered','Returned','Cancelled','Refunded']\n",
    "ex=[0.2,0.2,0.2,0.2]\n",
    "plt.pie(f,labels=labels,explode=ex,autopct='%.2f')\n",
    "plt.title('No of Western Dress Delivered in BENGALURU')\n",
    "plt.show()"
   ]
  },
  {
   "cell_type": "markdown",
   "id": "1d6c0821",
   "metadata": {
    "papermill": {
     "duration": 0.04997,
     "end_time": "2023-05-29T09:19:23.576325",
     "exception": false,
     "start_time": "2023-05-29T09:19:23.526355",
     "status": "completed"
    },
    "tags": []
   },
   "source": [
    "**What is the mean of total amount for all the products?**"
   ]
  },
  {
   "cell_type": "code",
   "execution_count": 162,
   "id": "46f14489",
   "metadata": {
    "papermill": {
     "duration": 0.090076,
     "end_time": "2023-05-29T09:19:23.707840",
     "exception": false,
     "start_time": "2023-05-29T09:19:23.617764",
     "status": "completed"
    },
    "tags": []
   },
   "outputs": [
    {
     "data": {
      "text/html": [
       "<div>\n",
       "<style scoped>\n",
       "    .dataframe tbody tr th:only-of-type {\n",
       "        vertical-align: middle;\n",
       "    }\n",
       "\n",
       "    .dataframe tbody tr th {\n",
       "        vertical-align: top;\n",
       "    }\n",
       "\n",
       "    .dataframe thead th {\n",
       "        text-align: right;\n",
       "    }\n",
       "</style>\n",
       "<table border=\"1\" class=\"dataframe\">\n",
       "  <thead>\n",
       "    <tr style=\"text-align: right;\">\n",
       "      <th></th>\n",
       "      <th>index</th>\n",
       "      <th>Cust ID</th>\n",
       "      <th>Age</th>\n",
       "      <th>Amount</th>\n",
       "      <th>ship-postal-code</th>\n",
       "    </tr>\n",
       "  </thead>\n",
       "  <tbody>\n",
       "    <tr>\n",
       "      <th>count</th>\n",
       "      <td>31047.00000</td>\n",
       "      <td>3.104700e+04</td>\n",
       "      <td>31047.000000</td>\n",
       "      <td>31047.000000</td>\n",
       "      <td>31047.000000</td>\n",
       "    </tr>\n",
       "    <tr>\n",
       "      <th>mean</th>\n",
       "      <td>15524.00000</td>\n",
       "      <td>4.936824e+06</td>\n",
       "      <td>39.496570</td>\n",
       "      <td>682.074822</td>\n",
       "      <td>460474.587206</td>\n",
       "    </tr>\n",
       "    <tr>\n",
       "      <th>std</th>\n",
       "      <td>8962.64124</td>\n",
       "      <td>2.900678e+06</td>\n",
       "      <td>15.117233</td>\n",
       "      <td>268.582173</td>\n",
       "      <td>198116.733009</td>\n",
       "    </tr>\n",
       "    <tr>\n",
       "      <th>min</th>\n",
       "      <td>1.00000</td>\n",
       "      <td>8.950000e+02</td>\n",
       "      <td>18.000000</td>\n",
       "      <td>229.000000</td>\n",
       "      <td>110001.000000</td>\n",
       "    </tr>\n",
       "    <tr>\n",
       "      <th>25%</th>\n",
       "      <td>7762.50000</td>\n",
       "      <td>2.416471e+06</td>\n",
       "      <td>28.000000</td>\n",
       "      <td>486.000000</td>\n",
       "      <td>313001.000000</td>\n",
       "    </tr>\n",
       "    <tr>\n",
       "      <th>50%</th>\n",
       "      <td>15524.00000</td>\n",
       "      <td>4.909885e+06</td>\n",
       "      <td>37.000000</td>\n",
       "      <td>646.000000</td>\n",
       "      <td>500028.000000</td>\n",
       "    </tr>\n",
       "    <tr>\n",
       "      <th>75%</th>\n",
       "      <td>23285.50000</td>\n",
       "      <td>7.454182e+06</td>\n",
       "      <td>47.000000</td>\n",
       "      <td>794.000000</td>\n",
       "      <td>600040.000000</td>\n",
       "    </tr>\n",
       "    <tr>\n",
       "      <th>max</th>\n",
       "      <td>31047.00000</td>\n",
       "      <td>9.999233e+06</td>\n",
       "      <td>78.000000</td>\n",
       "      <td>3036.000000</td>\n",
       "      <td>855117.000000</td>\n",
       "    </tr>\n",
       "  </tbody>\n",
       "</table>\n",
       "</div>"
      ],
      "text/plain": [
       "             index       Cust ID           Age        Amount  ship-postal-code\n",
       "count  31047.00000  3.104700e+04  31047.000000  31047.000000      31047.000000\n",
       "mean   15524.00000  4.936824e+06     39.496570    682.074822     460474.587206\n",
       "std     8962.64124  2.900678e+06     15.117233    268.582173     198116.733009\n",
       "min        1.00000  8.950000e+02     18.000000    229.000000     110001.000000\n",
       "25%     7762.50000  2.416471e+06     28.000000    486.000000     313001.000000\n",
       "50%    15524.00000  4.909885e+06     37.000000    646.000000     500028.000000\n",
       "75%    23285.50000  7.454182e+06     47.000000    794.000000     600040.000000\n",
       "max    31047.00000  9.999233e+06     78.000000   3036.000000     855117.000000"
      ]
     },
     "execution_count": 162,
     "metadata": {},
     "output_type": "execute_result"
    }
   ],
   "source": [
    "df.describe()"
   ]
  },
  {
   "cell_type": "code",
   "execution_count": 163,
   "id": "9731a719",
   "metadata": {
    "papermill": {
     "duration": 0.068311,
     "end_time": "2023-05-29T09:19:23.817918",
     "exception": false,
     "start_time": "2023-05-29T09:19:23.749607",
     "status": "completed"
    },
    "tags": []
   },
   "outputs": [
    {
     "data": {
      "text/plain": [
       "682.0748220439978"
      ]
     },
     "execution_count": 163,
     "metadata": {},
     "output_type": "execute_result"
    }
   ],
   "source": [
    "df.Amount.mean()"
   ]
  },
  {
   "cell_type": "markdown",
   "id": "5434649e",
   "metadata": {
    "papermill": {
     "duration": 0.04139,
     "end_time": "2023-05-29T09:19:23.902058",
     "exception": false,
     "start_time": "2023-05-29T09:19:23.860668",
     "status": "completed"
    },
    "tags": []
   },
   "source": [
    "**Check if any product shipped from visakhapatanam or not?**"
   ]
  },
  {
   "cell_type": "code",
   "execution_count": 166,
   "id": "3fe34bc3",
   "metadata": {
    "papermill": {
     "duration": 0.073212,
     "end_time": "2023-05-29T09:19:24.026129",
     "exception": false,
     "start_time": "2023-05-29T09:19:23.952917",
     "status": "completed"
    },
    "tags": []
   },
   "outputs": [
    {
     "data": {
      "text/html": [
       "<div>\n",
       "<style scoped>\n",
       "    .dataframe tbody tr th:only-of-type {\n",
       "        vertical-align: middle;\n",
       "    }\n",
       "\n",
       "    .dataframe tbody tr th {\n",
       "        vertical-align: top;\n",
       "    }\n",
       "\n",
       "    .dataframe thead th {\n",
       "        text-align: right;\n",
       "    }\n",
       "</style>\n",
       "<table border=\"1\" class=\"dataframe\">\n",
       "  <thead>\n",
       "    <tr style=\"text-align: right;\">\n",
       "      <th></th>\n",
       "      <th>index</th>\n",
       "      <th>Order ID</th>\n",
       "      <th>Cust ID</th>\n",
       "      <th>Gender</th>\n",
       "      <th>Age</th>\n",
       "      <th>Date</th>\n",
       "      <th>Status</th>\n",
       "      <th>Channels</th>\n",
       "      <th>SKU</th>\n",
       "      <th>Category</th>\n",
       "      <th>Size</th>\n",
       "      <th>Qty</th>\n",
       "      <th>currency</th>\n",
       "      <th>Amount</th>\n",
       "      <th>ship-city</th>\n",
       "      <th>ship-state</th>\n",
       "      <th>ship-postal-code</th>\n",
       "      <th>ship-country</th>\n",
       "      <th>B2B</th>\n",
       "    </tr>\n",
       "  </thead>\n",
       "  <tbody>\n",
       "  </tbody>\n",
       "</table>\n",
       "</div>"
      ],
      "text/plain": [
       "Empty DataFrame\n",
       "Columns: [index, Order ID, Cust ID, Gender, Age, Date, Status, Channels, SKU, Category, Size, Qty, currency, Amount, ship-city, ship-state, ship-postal-code, ship-country, B2B]\n",
       "Index: []"
      ]
     },
     "execution_count": 166,
     "metadata": {},
     "output_type": "execute_result"
    }
   ],
   "source": [
    "df[df['ship-city']=='VISAKHAPATANAM']"
   ]
  },
  {
   "cell_type": "code",
   "execution_count": 167,
   "id": "58c00f35",
   "metadata": {
    "papermill": {
     "duration": 0.06174,
     "end_time": "2023-05-29T09:19:24.130066",
     "exception": false,
     "start_time": "2023-05-29T09:19:24.068326",
     "status": "completed"
    },
    "tags": []
   },
   "outputs": [
    {
     "data": {
      "text/plain": [
       "ship-state\n",
       "MAHARASHTRA      4519\n",
       "KARNATAKA        3988\n",
       "UTTAR PRADESH    2882\n",
       "TAMIL NADU       2679\n",
       "TELANGANA        2527\n",
       "Name: count, dtype: int64"
      ]
     },
     "execution_count": 167,
     "metadata": {},
     "output_type": "execute_result"
    }
   ],
   "source": [
    "df1=df['ship-state'].value_counts().head()\n",
    "df1.head()"
   ]
  },
  {
   "cell_type": "code",
   "execution_count": 169,
   "id": "c5c3da49",
   "metadata": {
    "papermill": {
     "duration": 0.090152,
     "end_time": "2023-05-29T09:19:24.262711",
     "exception": false,
     "start_time": "2023-05-29T09:19:24.172559",
     "status": "completed"
    },
    "tags": []
   },
   "outputs": [
    {
     "data": {
      "text/html": [
       "<div>\n",
       "<style scoped>\n",
       "    .dataframe tbody tr th:only-of-type {\n",
       "        vertical-align: middle;\n",
       "    }\n",
       "\n",
       "    .dataframe tbody tr th {\n",
       "        vertical-align: top;\n",
       "    }\n",
       "\n",
       "    .dataframe thead th {\n",
       "        text-align: right;\n",
       "    }\n",
       "</style>\n",
       "<table border=\"1\" class=\"dataframe\">\n",
       "  <thead>\n",
       "    <tr style=\"text-align: right;\">\n",
       "      <th></th>\n",
       "      <th>index</th>\n",
       "      <th>Order ID</th>\n",
       "      <th>Cust ID</th>\n",
       "      <th>Gender</th>\n",
       "      <th>Age</th>\n",
       "      <th>Date</th>\n",
       "      <th>Status</th>\n",
       "      <th>Channels</th>\n",
       "      <th>SKU</th>\n",
       "      <th>Category</th>\n",
       "      <th>Size</th>\n",
       "      <th>Qty</th>\n",
       "      <th>currency</th>\n",
       "      <th>Amount</th>\n",
       "      <th>ship-city</th>\n",
       "      <th>ship-state</th>\n",
       "      <th>ship-postal-code</th>\n",
       "      <th>ship-country</th>\n",
       "      <th>B2B</th>\n",
       "    </tr>\n",
       "  </thead>\n",
       "  <tbody>\n",
       "    <tr>\n",
       "      <th>0</th>\n",
       "      <td>1</td>\n",
       "      <td>171-1029312-3038738</td>\n",
       "      <td>1029312</td>\n",
       "      <td>F</td>\n",
       "      <td>44</td>\n",
       "      <td>12/4/2022</td>\n",
       "      <td>Delivered</td>\n",
       "      <td>Myntra</td>\n",
       "      <td>JNE1233-BLUE-KR-031-XXL</td>\n",
       "      <td>kurta</td>\n",
       "      <td>XXL</td>\n",
       "      <td>1</td>\n",
       "      <td>INR</td>\n",
       "      <td>376</td>\n",
       "      <td>MOHALI</td>\n",
       "      <td>PUNJAB</td>\n",
       "      <td>140301</td>\n",
       "      <td>IN</td>\n",
       "      <td>False</td>\n",
       "    </tr>\n",
       "    <tr>\n",
       "      <th>1</th>\n",
       "      <td>2</td>\n",
       "      <td>405-2183842-2225946</td>\n",
       "      <td>2183842</td>\n",
       "      <td>F</td>\n",
       "      <td>29</td>\n",
       "      <td>12/4/2022</td>\n",
       "      <td>Delivered</td>\n",
       "      <td>Ajio</td>\n",
       "      <td>SET414-KR-NP-L</td>\n",
       "      <td>Set</td>\n",
       "      <td>L</td>\n",
       "      <td>1</td>\n",
       "      <td>INR</td>\n",
       "      <td>1449</td>\n",
       "      <td>GURUGRAM</td>\n",
       "      <td>HARYANA</td>\n",
       "      <td>122002</td>\n",
       "      <td>IN</td>\n",
       "      <td>False</td>\n",
       "    </tr>\n",
       "    <tr>\n",
       "      <th>2</th>\n",
       "      <td>3</td>\n",
       "      <td>171-1641533-8921966</td>\n",
       "      <td>1641533</td>\n",
       "      <td>F</td>\n",
       "      <td>67</td>\n",
       "      <td>12/4/2022</td>\n",
       "      <td>Delivered</td>\n",
       "      <td>Myntra</td>\n",
       "      <td>SET261-KR-PP-S</td>\n",
       "      <td>Set</td>\n",
       "      <td>S</td>\n",
       "      <td>1</td>\n",
       "      <td>INR</td>\n",
       "      <td>453</td>\n",
       "      <td>KOLKATA</td>\n",
       "      <td>WEST BENGAL</td>\n",
       "      <td>700029</td>\n",
       "      <td>IN</td>\n",
       "      <td>False</td>\n",
       "    </tr>\n",
       "    <tr>\n",
       "      <th>3</th>\n",
       "      <td>4</td>\n",
       "      <td>404-7490807-6300351</td>\n",
       "      <td>7490807</td>\n",
       "      <td>F</td>\n",
       "      <td>20</td>\n",
       "      <td>12/4/2022</td>\n",
       "      <td>Delivered</td>\n",
       "      <td>Amazon</td>\n",
       "      <td>SET110-KR-PP-M</td>\n",
       "      <td>Set</td>\n",
       "      <td>M</td>\n",
       "      <td>1</td>\n",
       "      <td>INR</td>\n",
       "      <td>729</td>\n",
       "      <td>THANJAVUR</td>\n",
       "      <td>TAMIL NADU</td>\n",
       "      <td>613007</td>\n",
       "      <td>IN</td>\n",
       "      <td>False</td>\n",
       "    </tr>\n",
       "    <tr>\n",
       "      <th>4</th>\n",
       "      <td>5</td>\n",
       "      <td>403-9293516-4577154</td>\n",
       "      <td>9293516</td>\n",
       "      <td>F</td>\n",
       "      <td>62</td>\n",
       "      <td>12/4/2022</td>\n",
       "      <td>Delivered</td>\n",
       "      <td>Myntra</td>\n",
       "      <td>JNE2294-KR-A-XXL</td>\n",
       "      <td>kurta</td>\n",
       "      <td>XXL</td>\n",
       "      <td>1</td>\n",
       "      <td>INR</td>\n",
       "      <td>544</td>\n",
       "      <td>GURUGRAM</td>\n",
       "      <td>HARYANA</td>\n",
       "      <td>122001</td>\n",
       "      <td>IN</td>\n",
       "      <td>False</td>\n",
       "    </tr>\n",
       "    <tr>\n",
       "      <th>...</th>\n",
       "      <td>...</td>\n",
       "      <td>...</td>\n",
       "      <td>...</td>\n",
       "      <td>...</td>\n",
       "      <td>...</td>\n",
       "      <td>...</td>\n",
       "      <td>...</td>\n",
       "      <td>...</td>\n",
       "      <td>...</td>\n",
       "      <td>...</td>\n",
       "      <td>...</td>\n",
       "      <td>...</td>\n",
       "      <td>...</td>\n",
       "      <td>...</td>\n",
       "      <td>...</td>\n",
       "      <td>...</td>\n",
       "      <td>...</td>\n",
       "      <td>...</td>\n",
       "      <td>...</td>\n",
       "    </tr>\n",
       "    <tr>\n",
       "      <th>24702</th>\n",
       "      <td>24703</td>\n",
       "      <td>404-5223942-0341154</td>\n",
       "      <td>5223942</td>\n",
       "      <td>M</td>\n",
       "      <td>49</td>\n",
       "      <td>8/6/2022</td>\n",
       "      <td>Delivered</td>\n",
       "      <td>Amazon</td>\n",
       "      <td>JNE3797-KR-L</td>\n",
       "      <td>Western Dress</td>\n",
       "      <td>L</td>\n",
       "      <td>1</td>\n",
       "      <td>INR</td>\n",
       "      <td>735</td>\n",
       "      <td>Rangpo</td>\n",
       "      <td>Sikkim</td>\n",
       "      <td>737132</td>\n",
       "      <td>IN</td>\n",
       "      <td>False</td>\n",
       "    </tr>\n",
       "    <tr>\n",
       "      <th>25058</th>\n",
       "      <td>25059</td>\n",
       "      <td>408-2391264-1885908</td>\n",
       "      <td>2391264</td>\n",
       "      <td>F</td>\n",
       "      <td>36</td>\n",
       "      <td>8/6/2022</td>\n",
       "      <td>Delivered</td>\n",
       "      <td>Amazon</td>\n",
       "      <td>JNE3567-KR-XS</td>\n",
       "      <td>kurta</td>\n",
       "      <td>XS</td>\n",
       "      <td>1</td>\n",
       "      <td>INR</td>\n",
       "      <td>399</td>\n",
       "      <td>south goa</td>\n",
       "      <td>goa</td>\n",
       "      <td>403716</td>\n",
       "      <td>IN</td>\n",
       "      <td>False</td>\n",
       "    </tr>\n",
       "    <tr>\n",
       "      <th>25627</th>\n",
       "      <td>25628</td>\n",
       "      <td>402-2262572-0675559</td>\n",
       "      <td>2262572</td>\n",
       "      <td>M</td>\n",
       "      <td>25</td>\n",
       "      <td>7/6/2022</td>\n",
       "      <td>Delivered</td>\n",
       "      <td>Amazon</td>\n",
       "      <td>SET240-KR-PP-M</td>\n",
       "      <td>Set</td>\n",
       "      <td>M</td>\n",
       "      <td>1</td>\n",
       "      <td>INR</td>\n",
       "      <td>579</td>\n",
       "      <td>Raia</td>\n",
       "      <td>Goa</td>\n",
       "      <td>403720</td>\n",
       "      <td>IN</td>\n",
       "      <td>False</td>\n",
       "    </tr>\n",
       "    <tr>\n",
       "      <th>26398</th>\n",
       "      <td>26399</td>\n",
       "      <td>404-5459392-9902753</td>\n",
       "      <td>5459392</td>\n",
       "      <td>F</td>\n",
       "      <td>69</td>\n",
       "      <td>6/6/2022</td>\n",
       "      <td>Delivered</td>\n",
       "      <td>Amazon</td>\n",
       "      <td>JNE3721-KR-XXL</td>\n",
       "      <td>kurta</td>\n",
       "      <td>XXL</td>\n",
       "      <td>1</td>\n",
       "      <td>INR</td>\n",
       "      <td>301</td>\n",
       "      <td>Naharlugun model arunachal pradesh</td>\n",
       "      <td>Arunachal pradesh</td>\n",
       "      <td>791110</td>\n",
       "      <td>IN</td>\n",
       "      <td>False</td>\n",
       "    </tr>\n",
       "    <tr>\n",
       "      <th>26478</th>\n",
       "      <td>26479</td>\n",
       "      <td>406-3251598-1269900</td>\n",
       "      <td>3251598</td>\n",
       "      <td>F</td>\n",
       "      <td>30</td>\n",
       "      <td>6/6/2022</td>\n",
       "      <td>Delivered</td>\n",
       "      <td>Myntra</td>\n",
       "      <td>JNE3484-KR-XXL</td>\n",
       "      <td>kurta</td>\n",
       "      <td>XXL</td>\n",
       "      <td>1</td>\n",
       "      <td>INR</td>\n",
       "      <td>301</td>\n",
       "      <td>Naharlugun model arunachal pradesh</td>\n",
       "      <td>Arunachal pradesh</td>\n",
       "      <td>791110</td>\n",
       "      <td>IN</td>\n",
       "      <td>False</td>\n",
       "    </tr>\n",
       "  </tbody>\n",
       "</table>\n",
       "<p>219 rows × 19 columns</p>\n",
       "</div>"
      ],
      "text/plain": [
       "       index             Order ID  Cust ID Gender  Age       Date     Status  \\\n",
       "0          1  171-1029312-3038738  1029312      F   44  12/4/2022  Delivered   \n",
       "1          2  405-2183842-2225946  2183842      F   29  12/4/2022  Delivered   \n",
       "2          3  171-1641533-8921966  1641533      F   67  12/4/2022  Delivered   \n",
       "3          4  404-7490807-6300351  7490807      F   20  12/4/2022  Delivered   \n",
       "4          5  403-9293516-4577154  9293516      F   62  12/4/2022  Delivered   \n",
       "...      ...                  ...      ...    ...  ...        ...        ...   \n",
       "24702  24703  404-5223942-0341154  5223942      M   49   8/6/2022  Delivered   \n",
       "25058  25059  408-2391264-1885908  2391264      F   36   8/6/2022  Delivered   \n",
       "25627  25628  402-2262572-0675559  2262572      M   25   7/6/2022  Delivered   \n",
       "26398  26399  404-5459392-9902753  5459392      F   69   6/6/2022  Delivered   \n",
       "26478  26479  406-3251598-1269900  3251598      F   30   6/6/2022  Delivered   \n",
       "\n",
       "      Channels                      SKU       Category Size Qty currency  \\\n",
       "0       Myntra  JNE1233-BLUE-KR-031-XXL          kurta  XXL   1      INR   \n",
       "1         Ajio           SET414-KR-NP-L            Set    L   1      INR   \n",
       "2       Myntra           SET261-KR-PP-S            Set    S   1      INR   \n",
       "3       Amazon           SET110-KR-PP-M            Set    M   1      INR   \n",
       "4       Myntra         JNE2294-KR-A-XXL          kurta  XXL   1      INR   \n",
       "...        ...                      ...            ...  ...  ..      ...   \n",
       "24702   Amazon             JNE3797-KR-L  Western Dress    L   1      INR   \n",
       "25058   Amazon            JNE3567-KR-XS          kurta   XS   1      INR   \n",
       "25627   Amazon           SET240-KR-PP-M            Set    M   1      INR   \n",
       "26398   Amazon           JNE3721-KR-XXL          kurta  XXL   1      INR   \n",
       "26478   Myntra           JNE3484-KR-XXL          kurta  XXL   1      INR   \n",
       "\n",
       "       Amount                           ship-city         ship-state  \\\n",
       "0         376                              MOHALI             PUNJAB   \n",
       "1        1449                            GURUGRAM            HARYANA   \n",
       "2         453                             KOLKATA        WEST BENGAL   \n",
       "3         729                           THANJAVUR         TAMIL NADU   \n",
       "4         544                            GURUGRAM            HARYANA   \n",
       "...       ...                                 ...                ...   \n",
       "24702     735                              Rangpo             Sikkim   \n",
       "25058     399                           south goa                goa   \n",
       "25627     579                                Raia                Goa   \n",
       "26398     301  Naharlugun model arunachal pradesh  Arunachal pradesh   \n",
       "26478     301  Naharlugun model arunachal pradesh  Arunachal pradesh   \n",
       "\n",
       "       ship-postal-code ship-country    B2B  \n",
       "0                140301           IN  False  \n",
       "1                122002           IN  False  \n",
       "2                700029           IN  False  \n",
       "3                613007           IN  False  \n",
       "4                122001           IN  False  \n",
       "...                 ...          ...    ...  \n",
       "24702            737132           IN  False  \n",
       "25058            403716           IN  False  \n",
       "25627            403720           IN  False  \n",
       "26398            791110           IN  False  \n",
       "26478            791110           IN  False  \n",
       "\n",
       "[219 rows x 19 columns]"
      ]
     },
     "execution_count": 169,
     "metadata": {},
     "output_type": "execute_result"
    }
   ],
   "source": [
    "state=df.groupby('ship-state')\n",
    "state.head()"
   ]
  },
  {
   "cell_type": "code",
   "execution_count": 170,
   "id": "6ee139da",
   "metadata": {
    "papermill": {
     "duration": 0.074629,
     "end_time": "2023-05-29T09:19:24.382536",
     "exception": false,
     "start_time": "2023-05-29T09:19:24.307907",
     "status": "completed"
    },
    "tags": []
   },
   "outputs": [
    {
     "data": {
      "text/html": [
       "<div>\n",
       "<style scoped>\n",
       "    .dataframe tbody tr th:only-of-type {\n",
       "        vertical-align: middle;\n",
       "    }\n",
       "\n",
       "    .dataframe tbody tr th {\n",
       "        vertical-align: top;\n",
       "    }\n",
       "\n",
       "    .dataframe thead th {\n",
       "        text-align: right;\n",
       "    }\n",
       "</style>\n",
       "<table border=\"1\" class=\"dataframe\">\n",
       "  <thead>\n",
       "    <tr style=\"text-align: right;\">\n",
       "      <th></th>\n",
       "      <th>index</th>\n",
       "      <th>Order ID</th>\n",
       "      <th>Cust ID</th>\n",
       "      <th>Gender</th>\n",
       "      <th>Age</th>\n",
       "      <th>Date</th>\n",
       "      <th>Status</th>\n",
       "      <th>Channels</th>\n",
       "      <th>SKU</th>\n",
       "      <th>Category</th>\n",
       "      <th>Size</th>\n",
       "      <th>Qty</th>\n",
       "      <th>currency</th>\n",
       "      <th>Amount</th>\n",
       "      <th>ship-city</th>\n",
       "      <th>ship-state</th>\n",
       "      <th>ship-postal-code</th>\n",
       "      <th>ship-country</th>\n",
       "      <th>B2B</th>\n",
       "    </tr>\n",
       "  </thead>\n",
       "  <tbody>\n",
       "    <tr>\n",
       "      <th>5</th>\n",
       "      <td>6</td>\n",
       "      <td>407-1298130-0368305</td>\n",
       "      <td>1298130</td>\n",
       "      <td>M</td>\n",
       "      <td>49</td>\n",
       "      <td>12/4/2022</td>\n",
       "      <td>Delivered</td>\n",
       "      <td>Flipkart</td>\n",
       "      <td>JNE3797-KR-XXL</td>\n",
       "      <td>Western Dress</td>\n",
       "      <td>XXL</td>\n",
       "      <td>1</td>\n",
       "      <td>INR</td>\n",
       "      <td>735</td>\n",
       "      <td>SANGLI MIRAJ KUPWAD</td>\n",
       "      <td>MAHARASHTRA</td>\n",
       "      <td>416436</td>\n",
       "      <td>IN</td>\n",
       "      <td>False</td>\n",
       "    </tr>\n",
       "    <tr>\n",
       "      <th>18</th>\n",
       "      <td>19</td>\n",
       "      <td>171-8974687-6745940</td>\n",
       "      <td>8974687</td>\n",
       "      <td>M</td>\n",
       "      <td>24</td>\n",
       "      <td>12/4/2022</td>\n",
       "      <td>Delivered</td>\n",
       "      <td>Myntra</td>\n",
       "      <td>J0161-DR-XXL</td>\n",
       "      <td>Western Dress</td>\n",
       "      <td>XXL</td>\n",
       "      <td>1</td>\n",
       "      <td>INR</td>\n",
       "      <td>473</td>\n",
       "      <td>MUMBAI</td>\n",
       "      <td>MAHARASHTRA</td>\n",
       "      <td>400097</td>\n",
       "      <td>IN</td>\n",
       "      <td>False</td>\n",
       "    </tr>\n",
       "    <tr>\n",
       "      <th>41</th>\n",
       "      <td>42</td>\n",
       "      <td>402-0637532-2672317</td>\n",
       "      <td>637532</td>\n",
       "      <td>F</td>\n",
       "      <td>39</td>\n",
       "      <td>12/4/2022</td>\n",
       "      <td>Delivered</td>\n",
       "      <td>Amazon</td>\n",
       "      <td>J0334-TP-S</td>\n",
       "      <td>Top</td>\n",
       "      <td>S</td>\n",
       "      <td>1</td>\n",
       "      <td>INR</td>\n",
       "      <td>545</td>\n",
       "      <td>PUNE</td>\n",
       "      <td>MAHARASHTRA</td>\n",
       "      <td>411051</td>\n",
       "      <td>IN</td>\n",
       "      <td>False</td>\n",
       "    </tr>\n",
       "    <tr>\n",
       "      <th>42</th>\n",
       "      <td>43</td>\n",
       "      <td>404-3393819-5081930</td>\n",
       "      <td>3393819</td>\n",
       "      <td>F</td>\n",
       "      <td>44</td>\n",
       "      <td>12/4/2022</td>\n",
       "      <td>Delivered</td>\n",
       "      <td>Myntra</td>\n",
       "      <td>SET397-KR-NP-XS</td>\n",
       "      <td>Set</td>\n",
       "      <td>XS</td>\n",
       "      <td>1</td>\n",
       "      <td>INR</td>\n",
       "      <td>1115</td>\n",
       "      <td>PUNE</td>\n",
       "      <td>MAHARASHTRA</td>\n",
       "      <td>412207</td>\n",
       "      <td>IN</td>\n",
       "      <td>False</td>\n",
       "    </tr>\n",
       "    <tr>\n",
       "      <th>47</th>\n",
       "      <td>48</td>\n",
       "      <td>406-8068610-1108329</td>\n",
       "      <td>8068610</td>\n",
       "      <td>F</td>\n",
       "      <td>48</td>\n",
       "      <td>12/4/2022</td>\n",
       "      <td>Delivered</td>\n",
       "      <td>Nalli</td>\n",
       "      <td>JNE3770-KR-S</td>\n",
       "      <td>kurta</td>\n",
       "      <td>S</td>\n",
       "      <td>1</td>\n",
       "      <td>INR</td>\n",
       "      <td>487</td>\n",
       "      <td>PUNE</td>\n",
       "      <td>MAHARASHTRA</td>\n",
       "      <td>411014</td>\n",
       "      <td>IN</td>\n",
       "      <td>False</td>\n",
       "    </tr>\n",
       "  </tbody>\n",
       "</table>\n",
       "</div>"
      ],
      "text/plain": [
       "    index             Order ID  Cust ID Gender  Age       Date     Status  \\\n",
       "5       6  407-1298130-0368305  1298130      M   49  12/4/2022  Delivered   \n",
       "18     19  171-8974687-6745940  8974687      M   24  12/4/2022  Delivered   \n",
       "41     42  402-0637532-2672317   637532      F   39  12/4/2022  Delivered   \n",
       "42     43  404-3393819-5081930  3393819      F   44  12/4/2022  Delivered   \n",
       "47     48  406-8068610-1108329  8068610      F   48  12/4/2022  Delivered   \n",
       "\n",
       "    Channels              SKU       Category Size Qty currency  Amount  \\\n",
       "5   Flipkart   JNE3797-KR-XXL  Western Dress  XXL   1      INR     735   \n",
       "18    Myntra     J0161-DR-XXL  Western Dress  XXL   1      INR     473   \n",
       "41    Amazon       J0334-TP-S            Top    S   1      INR     545   \n",
       "42    Myntra  SET397-KR-NP-XS            Set   XS   1      INR    1115   \n",
       "47     Nalli     JNE3770-KR-S          kurta    S   1      INR     487   \n",
       "\n",
       "              ship-city   ship-state  ship-postal-code ship-country    B2B  \n",
       "5   SANGLI MIRAJ KUPWAD  MAHARASHTRA            416436           IN  False  \n",
       "18               MUMBAI  MAHARASHTRA            400097           IN  False  \n",
       "41                 PUNE  MAHARASHTRA            411051           IN  False  \n",
       "42                 PUNE  MAHARASHTRA            412207           IN  False  \n",
       "47                 PUNE  MAHARASHTRA            411014           IN  False  "
      ]
     },
     "execution_count": 170,
     "metadata": {},
     "output_type": "execute_result"
    }
   ],
   "source": [
    "maha=state.get_group('MAHARASHTRA')\n",
    "maha.head()"
   ]
  },
  {
   "cell_type": "markdown",
   "id": "4288cbbd",
   "metadata": {
    "papermill": {
     "duration": 0.043742,
     "end_time": "2023-05-29T09:19:24.469165",
     "exception": false,
     "start_time": "2023-05-29T09:19:24.425423",
     "status": "completed"
    },
    "tags": []
   },
   "source": [
    "**What is the mean amount spent MAHARASHTRA people?**"
   ]
  },
  {
   "cell_type": "code",
   "execution_count": 173,
   "id": "9541a348",
   "metadata": {
    "papermill": {
     "duration": 0.060182,
     "end_time": "2023-05-29T09:19:24.574541",
     "exception": false,
     "start_time": "2023-05-29T09:19:24.514359",
     "status": "completed"
    },
    "tags": []
   },
   "outputs": [
    {
     "data": {
      "text/plain": [
       "661.6997123257357"
      ]
     },
     "execution_count": 173,
     "metadata": {},
     "output_type": "execute_result"
    }
   ],
   "source": [
    "maha.Amount.mean()"
   ]
  },
  {
   "cell_type": "code",
   "execution_count": 174,
   "id": "4bac3d4e",
   "metadata": {
    "papermill": {
     "duration": 0.057206,
     "end_time": "2023-05-29T09:19:24.675918",
     "exception": false,
     "start_time": "2023-05-29T09:19:24.618712",
     "status": "completed"
    },
    "tags": []
   },
   "outputs": [
    {
     "data": {
      "text/plain": [
       "5        Delivered\n",
       "18       Delivered\n",
       "41       Delivered\n",
       "42       Delivered\n",
       "47       Delivered\n",
       "           ...    \n",
       "31018    Delivered\n",
       "31021    Delivered\n",
       "31029    Delivered\n",
       "31042    Delivered\n",
       "31045    Delivered\n",
       "Name: Status, Length: 4519, dtype: object"
      ]
     },
     "execution_count": 174,
     "metadata": {},
     "output_type": "execute_result"
    }
   ],
   "source": [
    "maha.Status"
   ]
  },
  {
   "cell_type": "code",
   "execution_count": 176,
   "id": "b5f73ad5",
   "metadata": {
    "papermill": {
     "duration": 0.058474,
     "end_time": "2023-05-29T09:19:24.779034",
     "exception": false,
     "start_time": "2023-05-29T09:19:24.720560",
     "status": "completed"
    },
    "tags": []
   },
   "outputs": [
    {
     "data": {
      "text/plain": [
       "Status\n",
       "Delivered    4148\n",
       "Returned      145\n",
       "Cancelled     136\n",
       "Refunded       90\n",
       "Name: count, dtype: int64"
      ]
     },
     "execution_count": 176,
     "metadata": {},
     "output_type": "execute_result"
    }
   ],
   "source": [
    "maha.Status.value_counts()"
   ]
  },
  {
   "cell_type": "code",
   "execution_count": 178,
   "id": "0b70407d",
   "metadata": {
    "papermill": {
     "duration": 0.458253,
     "end_time": "2023-05-29T09:19:25.626642",
     "exception": false,
     "start_time": "2023-05-29T09:19:25.168389",
     "status": "completed"
    },
    "tags": []
   },
   "outputs": [
    {
     "data": {
      "image/png": "[encoded data removed]",
      "text/plain": [
       "<Figure size 640x480 with 1 Axes>"
      ]
     },
     "metadata": {},
     "output_type": "display_data"
    }
   ],
   "source": [
    "sns.countplot(x='Status',data=maha)\n",
    "plt.show()"
   ]
  },
  {
   "cell_type": "markdown",
   "id": "c79956a2-cca3-41ea-98db-aa06821ff9e6",
   "metadata": {
    "papermill": {
     "duration": 0.045566,
     "end_time": "2023-05-29T09:19:26.341371",
     "exception": false,
     "start_time": "2023-05-29T09:19:26.295805",
     "status": "completed"
    },
    "tags": []
   },
   "source": [
    "**From which district in MAHARASTRA did most of the products shipped from?**"
   ]
  },
  {
   "cell_type": "code",
   "execution_count": 182,
   "id": "0fbcd61b",
   "metadata": {
    "papermill": {
     "duration": 0.06146,
     "end_time": "2023-05-29T09:19:26.449214",
     "exception": false,
     "start_time": "2023-05-29T09:19:26.387754",
     "status": "completed"
    },
    "tags": []
   },
   "outputs": [
    {
     "data": {
      "text/plain": [
       "ship-city\n",
       "MUMBAI         1224\n",
       "PUNE            726\n",
       "THANE           307\n",
       "NAVI MUMBAI     290\n",
       "Mumbai          153\n",
       "Name: count, dtype: int64"
      ]
     },
     "execution_count": 182,
     "metadata": {},
     "output_type": "execute_result"
    }
   ],
   "source": [
    "maha['ship-city'].value_counts().head()"
   ]
  },
  {
   "cell_type": "markdown",
   "id": "47bfe3ab",
   "metadata": {
    "papermill": {
     "duration": 0.047426,
     "end_time": "2023-05-29T09:19:26.543432",
     "exception": false,
     "start_time": "2023-05-29T09:19:26.496006",
     "status": "completed"
    },
    "tags": []
   },
   "source": [
    "**What is the mean amount shipped by amazon in KARNATKA?**"
   ]
  },
  {
   "cell_type": "code",
   "execution_count": 185,
   "id": "e877fa3e",
   "metadata": {
    "papermill": {
     "duration": 0.06399,
     "end_time": "2023-05-29T09:19:26.655632",
     "exception": false,
     "start_time": "2023-05-29T09:19:26.591642",
     "status": "completed"
    },
    "tags": []
   },
   "outputs": [
    {
     "data": {
      "text/plain": [
       "665.8685857321652"
      ]
     },
     "execution_count": 185,
     "metadata": {},
     "output_type": "execute_result"
    }
   ],
   "source": [
    "maha[maha['Channels']=='Amazon'].Amount.mean()"
   ]
  },
  {
   "cell_type": "markdown",
   "id": "c1a0ec82",
   "metadata": {
    "papermill": {
     "duration": 0.047015,
     "end_time": "2023-05-29T09:19:26.748352",
     "exception": false,
     "start_time": "2023-05-29T09:19:26.701337",
     "status": "completed"
    },
    "tags": []
   },
   "source": [
    "**By which medium did most of the people spent their amount in Maharastra?**"
   ]
  },
  {
   "cell_type": "code",
   "execution_count": 191,
   "id": "8cb21a31",
   "metadata": {
    "papermill": {
     "duration": 0.683786,
     "end_time": "2023-05-29T09:19:27.477351",
     "exception": false,
     "start_time": "2023-05-29T09:19:26.793565",
     "status": "completed"
    },
    "tags": []
   },
   "outputs": [
    {
     "data": {
      "image/png": "[encoded data removed]",
      "text/plain": [
       "<Figure size 640x480 with 1 Axes>"
      ]
     },
     "metadata": {},
     "output_type": "display_data"
    }
   ],
   "source": [
    "sns.lineplot(x='Channels',y='Amount',data=maha)\n",
    "plt.show()"
   ]
  },
  {
   "cell_type": "markdown",
   "id": "57af7dc4",
   "metadata": {
    "papermill": {
     "duration": 0.047037,
     "end_time": "2023-05-29T09:19:27.572971",
     "exception": false,
     "start_time": "2023-05-29T09:19:27.525934",
     "status": "completed"
    },
    "tags": []
   },
   "source": [
    "**what is the Average amount spent by the gender via medium in maharastara?**"
   ]
  },
  {
   "cell_type": "code",
   "execution_count": 198,
   "id": "ace75fc4",
   "metadata": {
    "papermill": {
     "duration": 0.990824,
     "end_time": "2023-05-29T09:19:28.610522",
     "exception": false,
     "start_time": "2023-05-29T09:19:27.619698",
     "status": "completed"
    },
    "tags": []
   },
   "outputs": [
    {
     "data": {
      "image/png": "[encoded data removed]",
      "text/plain": [
       "<Figure size 640x480 with 1 Axes>"
      ]
     },
     "metadata": {},
     "output_type": "display_data"
    }
   ],
   "source": [
    "sns.lineplot(x='Channels',y='Amount',data=maha,hue='Gender',marker='*',style='Gender')\n",
    "plt.show()"
   ]
  },
  {
   "cell_type": "code",
   "execution_count": 199,
   "id": "85c0a5eb",
   "metadata": {
    "papermill": {
     "duration": 2.407794,
     "end_time": "2023-05-29T09:19:33.381829",
     "exception": false,
     "start_time": "2023-05-29T09:19:30.974035",
     "status": "completed"
    },
    "tags": []
   },
   "outputs": [
    {
     "data": {
      "image/png": "[encoded data removed]",
      "text/plain": [
       "<Figure size 1500x600 with 1 Axes>"
      ]
     },
     "metadata": {},
     "output_type": "display_data"
    }
   ],
   "source": [
    "plt.figure(figsize=(15,6))\n",
    "sns.barplot(x='Channels',y='Amount',data=maha,hue='Category',estimator='mean')\n",
    "plt.show()"
   ]
  },
  {
   "cell_type": "code",
   "execution_count": 201,
   "id": "6b10b1aa",
   "metadata": {
    "papermill": {
     "duration": 0.294768,
     "end_time": "2023-05-29T09:19:33.725560",
     "exception": false,
     "start_time": "2023-05-29T09:19:33.430792",
     "status": "completed"
    },
    "tags": []
   },
   "outputs": [
    {
     "data": {
      "image/png": "[encoded data removed]",
      "text/plain": [
       "<Figure size 640x480 with 1 Axes>"
      ]
     },
     "metadata": {},
     "output_type": "display_data"
    }
   ],
   "source": [
    "sns.boxplot(x='Gender',y='Amount',data=maha)\n",
    "plt.show()"
   ]
  }
 ],
 "metadata": {
  "kernelspec": {
   "display_name": "Python 3 (ipykernel)",
   "language": "python",
   "name": "python3"
  },
  "language_info": {
   "codemirror_mode": {
    "name": "ipython",
    "version": 3
   },
   "file_extension": ".py",
   "mimetype": "text/x-python",
   "name": "python",
   "nbconvert_exporter": "python",
   "pygments_lexer": "ipython3",
   "version": "3.12.4"
  },
  "papermill": {
   "default_parameters": {},
   "duration": 139.500518,
   "end_time": "2023-05-29T09:21:02.156725",
   "environment_variables": {},
   "exception": null,
   "input_path": "__notebook__.ipynb",
   "output_path": "__notebook__.ipynb",
   "parameters": {},
   "start_time": "2023-05-29T09:18:42.656207",
   "version": "2.4.0"
  }
 },
 "nbformat": 4,
 "nbformat_minor": 5
}
